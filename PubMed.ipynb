{
 "cells": [
  {
   "cell_type": "code",
   "execution_count": 1,
   "id": "1b7a0209-2724-41b2-b213-29ae1341495b",
   "metadata": {},
   "outputs": [
    {
     "name": "stdout",
     "output_type": "stream",
     "text": [
      "WARNING:tensorflow:From C:\\Users\\jagam\\anaconda3\\envs\\tensorflow\\lib\\site-packages\\keras\\src\\losses.py:2976: The name tf.losses.sparse_softmax_cross_entropy is deprecated. Please use tf.compat.v1.losses.sparse_softmax_cross_entropy instead.\n",
      "\n"
     ]
    }
   ],
   "source": [
    "import numpy as np\n",
    "import tensorflow as tf\n",
    "import pandas as pd\n",
    "import matplotlib.pyplot as plt\n",
    "import os"
   ]
  },
  {
   "cell_type": "code",
   "execution_count": 2,
   "id": "2daedda0-2cb6-45d1-8e09-5f1db88b8699",
   "metadata": {},
   "outputs": [],
   "source": [
    "# Start our experiments using the 20k dataset with number replaced by '@' sign\n",
    "data_dir = r\"C:\\Users\\jagam\\Desktop\\PubMed\\pubmed-rct-master\\PubMed_20k_RCT_numbers_replaced_with_at_sign\\\\\"\n"
   ]
  },
  {
   "cell_type": "code",
   "execution_count": 3,
   "id": "3ef5115d-fc42-42ea-90b6-13de538960c9",
   "metadata": {},
   "outputs": [
    {
     "data": {
      "text/plain": [
       "['C:\\\\Users\\\\jagam\\\\Desktop\\\\PubMed\\\\pubmed-rct-master\\\\PubMed_20k_RCT_numbers_replaced_with_at_sign\\\\\\\\dev.txt',\n",
       " 'C:\\\\Users\\\\jagam\\\\Desktop\\\\PubMed\\\\pubmed-rct-master\\\\PubMed_20k_RCT_numbers_replaced_with_at_sign\\\\\\\\test.txt',\n",
       " 'C:\\\\Users\\\\jagam\\\\Desktop\\\\PubMed\\\\pubmed-rct-master\\\\PubMed_20k_RCT_numbers_replaced_with_at_sign\\\\\\\\train.txt']"
      ]
     },
     "execution_count": 3,
     "metadata": {},
     "output_type": "execute_result"
    }
   ],
   "source": [
    "# Check all the filename in target directory\n",
    "import os\n",
    "filenames = [data_dir + filename for filename in os.listdir(data_dir)]\n",
    "filenames"
   ]
  },
  {
   "cell_type": "code",
   "execution_count": 4,
   "id": "915ed34d-1a1f-43ec-ab11-57db594a71ff",
   "metadata": {},
   "outputs": [],
   "source": [
    "# Create a function to read the lines of the document\n",
    "def get_lines(filename):\n",
    "    '''\n",
    "    Function that takes the file location as input and returns a list containing the contentes of the file\n",
    "    '''\n",
    "    with open(filename, 'r') as f:\n",
    "        return f.readlines()  # Return a list"
   ]
  },
  {
   "cell_type": "code",
   "execution_count": 5,
   "id": "470764ab-df0e-4b7b-83ce-7929ceeb31f6",
   "metadata": {},
   "outputs": [
    {
     "data": {
      "text/plain": [
       "['###24293578\\n',\n",
       " 'OBJECTIVE\\tTo investigate the efficacy of @ weeks of daily low-dose oral prednisolone in improving pain , mobility , and systemic low-grade inflammation in the short term and whether the effect would be sustained at @ weeks in older adults with moderate to severe knee osteoarthritis ( OA ) .\\n',\n",
       " 'METHODS\\tA total of @ patients with primary knee OA were randomized @:@ ; @ received @ mg/day of prednisolone and @ received placebo for @ weeks .\\n',\n",
       " 'METHODS\\tOutcome measures included pain reduction and improvement in function scores and systemic inflammation markers .\\n',\n",
       " 'METHODS\\tPain was assessed using the visual analog pain scale ( @-@ mm ) .\\n',\n",
       " 'METHODS\\tSecondary outcome measures included the Western Ontario and McMaster Universities Osteoarthritis Index scores , patient global assessment ( PGA ) of the severity of knee OA , and @-min walk distance ( @MWD ) .\\n',\n",
       " 'METHODS\\tSerum levels of interleukin @ ( IL-@ ) , IL-@ , tumor necrosis factor ( TNF ) - , and high-sensitivity C-reactive protein ( hsCRP ) were measured .\\n',\n",
       " 'RESULTS\\tThere was a clinically relevant reduction in the intervention group compared to the placebo group for knee pain , physical function , PGA , and @MWD at @ weeks .\\n',\n",
       " 'RESULTS\\tThe mean difference between treatment arms ( @ % CI ) was @ ( @-@ @ ) , p < @ ; @ ( @-@ @ ) , p < @ ; @ ( @-@ @ ) , p < @ ; and @ ( @-@ @ ) , p < @ , respectively .\\n',\n",
       " 'RESULTS\\tFurther , there was a clinically relevant reduction in the serum levels of IL-@ , IL-@ , TNF - , and hsCRP at @ weeks in the intervention group when compared to the placebo group .\\n',\n",
       " 'RESULTS\\tThese differences remained significant at @ weeks .\\n',\n",
       " 'RESULTS\\tThe Outcome Measures in Rheumatology Clinical Trials-Osteoarthritis Research Society International responder rate was @ % in the intervention group and @ % in the placebo group ( p < @ ) .\\n',\n",
       " 'CONCLUSIONS\\tLow-dose oral prednisolone had both a short-term and a longer sustained effect resulting in less knee pain , better physical function , and attenuation of systemic inflammation in older patients with knee OA ( ClinicalTrials.gov identifier NCT@ ) .\\n',\n",
       " '\\n',\n",
       " '###24854809\\n',\n",
       " 'BACKGROUND\\tEmotional eating is associated with overeating and the development of obesity .\\n',\n",
       " 'BACKGROUND\\tYet , empirical evidence for individual ( trait ) differences in emotional eating and cognitive mechanisms that contribute to eating during sad mood remain equivocal .\\n',\n",
       " 'OBJECTIVE\\tThe aim of this study was to test if attention bias for food moderates the effect of self-reported emotional eating during sad mood ( vs neutral mood ) on actual food intake .\\n',\n",
       " 'OBJECTIVE\\tIt was expected that emotional eating is predictive of elevated attention for food and higher food intake after an experimentally induced sad mood and that attentional maintenance on food predicts food intake during a sad versus a neutral mood .\\n',\n",
       " 'METHODS\\tParticipants ( N = @ ) were randomly assigned to one of the two experimental mood induction conditions ( sad/neutral ) .\\n',\n",
       " 'METHODS\\tAttentional biases for high caloric foods were measured by eye tracking during a visual probe task with pictorial food and neutral stimuli .\\n',\n",
       " 'METHODS\\tSelf-reported emotional eating was assessed with the Dutch Eating Behavior Questionnaire ( DEBQ ) and ad libitum food intake was tested by a disguised food offer .\\n',\n",
       " 'RESULTS\\tHierarchical multivariate regression modeling showed that self-reported emotional eating did not account for changes in attention allocation for food or food intake in either condition .\\n',\n",
       " 'RESULTS\\tYet , attention maintenance on food cues was significantly related to increased intake specifically in the neutral condition , but not in the sad mood condition .\\n',\n",
       " 'CONCLUSIONS\\tThe current findings show that self-reported emotional eating ( based on the DEBQ ) might not validly predict who overeats when sad , at least not in a laboratory setting with healthy women .\\n',\n",
       " 'CONCLUSIONS\\tResults further suggest that attention maintenance on food relates to eating motivation when in a neutral affective state , and might therefore be a cognitive mechanism contributing to increased food intake in general , but maybe not during sad mood .\\n',\n",
       " '\\n']"
      ]
     },
     "execution_count": 5,
     "metadata": {},
     "output_type": "execute_result"
    }
   ],
   "source": [
    "\n",
    "train_lines = get_lines(os.path.join(data_dir, 'train.txt'))\n",
    "\n",
    "# Display the first 20 lines of the training data\n",
    "train_lines[:27]\n"
   ]
  },
  {
   "cell_type": "markdown",
   "id": "fd51c869-f13a-4424-9525-baf4e3c44fcc",
   "metadata": {},
   "source": [
    "**Converting the data into desired format --> list of dictionaries [{'line_number': pos of a txt, 'target': label of txt, 'text': 'Actual txt', 'total_lines': lines in the abstract of that id}]**"
   ]
  },
  {
   "cell_type": "markdown",
   "id": "31854cc6-98e4-44c6-98b2-4587dbb33547",
   "metadata": {},
   "source": [
    "* write a function to convert our dataset into the desired format"
   ]
  },
  {
   "cell_type": "code",
   "execution_count": 6,
   "id": "5dec0808-e666-437a-97d8-509f1cccab4b",
   "metadata": {},
   "outputs": [],
   "source": [
    "def preprocess_text_with_line_numbers(filename):\n",
    "    '''\n",
    "    Returns a list of dict of abstract line data\n",
    "\n",
    "    i/p: filename, reads the content and sorts through each line,\n",
    "    o/p: extracting target labels, text of the sentence, no of sentence in the abstract, target line number\n",
    "    '''\n",
    "    input_lines = get_lines(filename) # get all the lines present in the file\n",
    "    abstract_lines = \"\" # Create an empty abstract\n",
    "    abstract_samples = [] # Create an empty list of abstracts\n",
    "\n",
    "    # Loop through each lne in the taret file\n",
    "    for line in input_lines:\n",
    "        if line.startswith('###'): # If it is the line is the ID line\n",
    "            abstract_id = line\n",
    "            abstract_lines = \"\" # it means that 1 abstract has ended so reset it to hv txt frm next abstract\n",
    "        elif line.isspace():\n",
    "            abstract_line_split = abstract_lines.splitlines() # return lst each sentence one element \n",
    "\n",
    "            # Iterate through each line in a single abstract and count them at the same time\n",
    "            for abstract_line_number, abstract_line in enumerate(abstract_line_split):\n",
    "                line_data = {} # Create an empty dict for each line\n",
    "                target_text_split = abstract_line.split('\\t') # spilt target label from text\n",
    "                line_data['target'] = target_text_split[0] # get target label\n",
    "                line_data['text'] = target_text_split[1].lower() # get target text and lower it\n",
    "                line_data['line_number'] = abstract_line_number # what number does the line appear at\n",
    "                line_data['total_lines'] = len(abstract_line_split) - 1\n",
    "                # total lines in the target abstract (-1 becoz id of the abstract will be one element in list)\n",
    "                abstract_samples.append(line_data) # add line data to abstract samples list\n",
    "\n",
    "        else:\n",
    "            abstract_lines += line\n",
    "    return abstract_samples"
   ]
  },
  {
   "cell_type": "code",
   "execution_count": 7,
   "id": "078120ef-1fc0-4385-b26d-fbe93169375c",
   "metadata": {},
   "outputs": [
    {
     "data": {
      "text/plain": [
       "(180040, 30212, 30135)"
      ]
     },
     "execution_count": 7,
     "metadata": {},
     "output_type": "execute_result"
    }
   ],
   "source": [
    "# Get data from file and preprocess it\n",
    "train_samples = preprocess_text_with_line_numbers(data_dir + \"train.txt\")\n",
    "val_samples = preprocess_text_with_line_numbers(data_dir + \"dev.txt\") # dev is another name for validation set\n",
    "test_samples = preprocess_text_with_line_numbers(data_dir + \"test.txt\")\n",
    "len(train_samples), len(val_samples), len(test_samples)\n",
    "     "
   ]
  },
  {
   "cell_type": "code",
   "execution_count": 8,
   "id": "0a2e6365-cfee-4f82-acdd-40a05da65d7d",
   "metadata": {},
   "outputs": [
    {
     "data": {
      "text/plain": [
       "[{'target': 'OBJECTIVE',\n",
       "  'text': 'to investigate the efficacy of @ weeks of daily low-dose oral prednisolone in improving pain , mobility , and systemic low-grade inflammation in the short term and whether the effect would be sustained at @ weeks in older adults with moderate to severe knee osteoarthritis ( oa ) .',\n",
       "  'line_number': 0,\n",
       "  'total_lines': 11},\n",
       " {'target': 'METHODS',\n",
       "  'text': 'a total of @ patients with primary knee oa were randomized @:@ ; @ received @ mg/day of prednisolone and @ received placebo for @ weeks .',\n",
       "  'line_number': 1,\n",
       "  'total_lines': 11},\n",
       " {'target': 'METHODS',\n",
       "  'text': 'outcome measures included pain reduction and improvement in function scores and systemic inflammation markers .',\n",
       "  'line_number': 2,\n",
       "  'total_lines': 11},\n",
       " {'target': 'METHODS',\n",
       "  'text': 'pain was assessed using the visual analog pain scale ( @-@ mm ) .',\n",
       "  'line_number': 3,\n",
       "  'total_lines': 11},\n",
       " {'target': 'METHODS',\n",
       "  'text': 'secondary outcome measures included the western ontario and mcmaster universities osteoarthritis index scores , patient global assessment ( pga ) of the severity of knee oa , and @-min walk distance ( @mwd ) .',\n",
       "  'line_number': 4,\n",
       "  'total_lines': 11},\n",
       " {'target': 'METHODS',\n",
       "  'text': 'serum levels of interleukin @ ( il-@ ) , il-@ , tumor necrosis factor ( tnf ) - , and high-sensitivity c-reactive protein ( hscrp ) were measured .',\n",
       "  'line_number': 5,\n",
       "  'total_lines': 11},\n",
       " {'target': 'RESULTS',\n",
       "  'text': 'there was a clinically relevant reduction in the intervention group compared to the placebo group for knee pain , physical function , pga , and @mwd at @ weeks .',\n",
       "  'line_number': 6,\n",
       "  'total_lines': 11},\n",
       " {'target': 'RESULTS',\n",
       "  'text': 'the mean difference between treatment arms ( @ % ci ) was @ ( @-@ @ ) , p < @ ; @ ( @-@ @ ) , p < @ ; @ ( @-@ @ ) , p < @ ; and @ ( @-@ @ ) , p < @ , respectively .',\n",
       "  'line_number': 7,\n",
       "  'total_lines': 11},\n",
       " {'target': 'RESULTS',\n",
       "  'text': 'further , there was a clinically relevant reduction in the serum levels of il-@ , il-@ , tnf - , and hscrp at @ weeks in the intervention group when compared to the placebo group .',\n",
       "  'line_number': 8,\n",
       "  'total_lines': 11},\n",
       " {'target': 'RESULTS',\n",
       "  'text': 'these differences remained significant at @ weeks .',\n",
       "  'line_number': 9,\n",
       "  'total_lines': 11}]"
      ]
     },
     "execution_count": 8,
     "metadata": {},
     "output_type": "execute_result"
    }
   ],
   "source": [
    "train_samples[:10]"
   ]
  },
  {
   "cell_type": "markdown",
   "id": "d325d76e-50db-46d6-9cd6-f95632b2f8b4",
   "metadata": {},
   "source": [
    "### Converting our dictionary into dataFrame"
   ]
  },
  {
   "cell_type": "code",
   "execution_count": 9,
   "id": "04685bde-d5b6-4b07-833b-4ad169d87dde",
   "metadata": {},
   "outputs": [
    {
     "data": {
      "text/html": [
       "<div>\n",
       "<style scoped>\n",
       "    .dataframe tbody tr th:only-of-type {\n",
       "        vertical-align: middle;\n",
       "    }\n",
       "\n",
       "    .dataframe tbody tr th {\n",
       "        vertical-align: top;\n",
       "    }\n",
       "\n",
       "    .dataframe thead th {\n",
       "        text-align: right;\n",
       "    }\n",
       "</style>\n",
       "<table border=\"1\" class=\"dataframe\">\n",
       "  <thead>\n",
       "    <tr style=\"text-align: right;\">\n",
       "      <th></th>\n",
       "      <th>target</th>\n",
       "      <th>text</th>\n",
       "      <th>line_number</th>\n",
       "      <th>total_lines</th>\n",
       "    </tr>\n",
       "  </thead>\n",
       "  <tbody>\n",
       "    <tr>\n",
       "      <th>0</th>\n",
       "      <td>OBJECTIVE</td>\n",
       "      <td>to investigate the efficacy of @ weeks of dail...</td>\n",
       "      <td>0</td>\n",
       "      <td>11</td>\n",
       "    </tr>\n",
       "    <tr>\n",
       "      <th>1</th>\n",
       "      <td>METHODS</td>\n",
       "      <td>a total of @ patients with primary knee oa wer...</td>\n",
       "      <td>1</td>\n",
       "      <td>11</td>\n",
       "    </tr>\n",
       "    <tr>\n",
       "      <th>2</th>\n",
       "      <td>METHODS</td>\n",
       "      <td>outcome measures included pain reduction and i...</td>\n",
       "      <td>2</td>\n",
       "      <td>11</td>\n",
       "    </tr>\n",
       "    <tr>\n",
       "      <th>3</th>\n",
       "      <td>METHODS</td>\n",
       "      <td>pain was assessed using the visual analog pain...</td>\n",
       "      <td>3</td>\n",
       "      <td>11</td>\n",
       "    </tr>\n",
       "    <tr>\n",
       "      <th>4</th>\n",
       "      <td>METHODS</td>\n",
       "      <td>secondary outcome measures included the wester...</td>\n",
       "      <td>4</td>\n",
       "      <td>11</td>\n",
       "    </tr>\n",
       "    <tr>\n",
       "      <th>5</th>\n",
       "      <td>METHODS</td>\n",
       "      <td>serum levels of interleukin @ ( il-@ ) , il-@ ...</td>\n",
       "      <td>5</td>\n",
       "      <td>11</td>\n",
       "    </tr>\n",
       "    <tr>\n",
       "      <th>6</th>\n",
       "      <td>RESULTS</td>\n",
       "      <td>there was a clinically relevant reduction in t...</td>\n",
       "      <td>6</td>\n",
       "      <td>11</td>\n",
       "    </tr>\n",
       "    <tr>\n",
       "      <th>7</th>\n",
       "      <td>RESULTS</td>\n",
       "      <td>the mean difference between treatment arms ( @...</td>\n",
       "      <td>7</td>\n",
       "      <td>11</td>\n",
       "    </tr>\n",
       "    <tr>\n",
       "      <th>8</th>\n",
       "      <td>RESULTS</td>\n",
       "      <td>further , there was a clinically relevant redu...</td>\n",
       "      <td>8</td>\n",
       "      <td>11</td>\n",
       "    </tr>\n",
       "    <tr>\n",
       "      <th>9</th>\n",
       "      <td>RESULTS</td>\n",
       "      <td>these differences remained significant at @ we...</td>\n",
       "      <td>9</td>\n",
       "      <td>11</td>\n",
       "    </tr>\n",
       "    <tr>\n",
       "      <th>10</th>\n",
       "      <td>RESULTS</td>\n",
       "      <td>the outcome measures in rheumatology clinical ...</td>\n",
       "      <td>10</td>\n",
       "      <td>11</td>\n",
       "    </tr>\n",
       "    <tr>\n",
       "      <th>11</th>\n",
       "      <td>CONCLUSIONS</td>\n",
       "      <td>low-dose oral prednisolone had both a short-te...</td>\n",
       "      <td>11</td>\n",
       "      <td>11</td>\n",
       "    </tr>\n",
       "    <tr>\n",
       "      <th>12</th>\n",
       "      <td>BACKGROUND</td>\n",
       "      <td>emotional eating is associated with overeating...</td>\n",
       "      <td>0</td>\n",
       "      <td>10</td>\n",
       "    </tr>\n",
       "    <tr>\n",
       "      <th>13</th>\n",
       "      <td>BACKGROUND</td>\n",
       "      <td>yet , empirical evidence for individual ( trai...</td>\n",
       "      <td>1</td>\n",
       "      <td>10</td>\n",
       "    </tr>\n",
       "  </tbody>\n",
       "</table>\n",
       "</div>"
      ],
      "text/plain": [
       "         target                                               text  \\\n",
       "0     OBJECTIVE  to investigate the efficacy of @ weeks of dail...   \n",
       "1       METHODS  a total of @ patients with primary knee oa wer...   \n",
       "2       METHODS  outcome measures included pain reduction and i...   \n",
       "3       METHODS  pain was assessed using the visual analog pain...   \n",
       "4       METHODS  secondary outcome measures included the wester...   \n",
       "5       METHODS  serum levels of interleukin @ ( il-@ ) , il-@ ...   \n",
       "6       RESULTS  there was a clinically relevant reduction in t...   \n",
       "7       RESULTS  the mean difference between treatment arms ( @...   \n",
       "8       RESULTS  further , there was a clinically relevant redu...   \n",
       "9       RESULTS  these differences remained significant at @ we...   \n",
       "10      RESULTS  the outcome measures in rheumatology clinical ...   \n",
       "11  CONCLUSIONS  low-dose oral prednisolone had both a short-te...   \n",
       "12   BACKGROUND  emotional eating is associated with overeating...   \n",
       "13   BACKGROUND  yet , empirical evidence for individual ( trai...   \n",
       "\n",
       "    line_number  total_lines  \n",
       "0             0           11  \n",
       "1             1           11  \n",
       "2             2           11  \n",
       "3             3           11  \n",
       "4             4           11  \n",
       "5             5           11  \n",
       "6             6           11  \n",
       "7             7           11  \n",
       "8             8           11  \n",
       "9             9           11  \n",
       "10           10           11  \n",
       "11           11           11  \n",
       "12            0           10  \n",
       "13            1           10  "
      ]
     },
     "execution_count": 9,
     "metadata": {},
     "output_type": "execute_result"
    }
   ],
   "source": [
    "import pandas as pd\n",
    "train_df = pd.DataFrame(train_samples)\n",
    "val_df = pd.DataFrame(val_samples)\n",
    "test_df = pd.DataFrame(test_samples)\n",
    "train_df.head(14)"
   ]
  },
  {
   "cell_type": "code",
   "execution_count": 10,
   "id": "37529777-db3c-4673-8752-9ad81f34e6ba",
   "metadata": {},
   "outputs": [
    {
     "data": {
      "text/plain": [
       "target\n",
       "METHODS        59353\n",
       "RESULTS        57953\n",
       "CONCLUSIONS    27168\n",
       "BACKGROUND     21727\n",
       "OBJECTIVE      13839\n",
       "Name: count, dtype: int64"
      ]
     },
     "execution_count": 10,
     "metadata": {},
     "output_type": "execute_result"
    }
   ],
   "source": [
    "# Distribution of labels in training data\n",
    "train_df.target.value_counts()"
   ]
  },
  {
   "cell_type": "code",
   "execution_count": 11,
   "id": "30c37494-4959-4dfc-99dd-424fd16bd95b",
   "metadata": {},
   "outputs": [
    {
     "data": {
      "text/plain": [
       "<Axes: ylabel='Frequency'>"
      ]
     },
     "execution_count": 11,
     "metadata": {},
     "output_type": "execute_result"
    },
    {
     "data": {
      "image/png": "[encoded data removed]",
      "text/plain": [
       "<Figure size 640x480 with 1 Axes>"
      ]
     },
     "metadata": {},
     "output_type": "display_data"
    }
   ],
   "source": [
    "train_df['total_lines'].plot(kind='hist')"
   ]
  },
  {
   "cell_type": "code",
   "execution_count": 12,
   "id": "253e71e8-b0c6-4b64-b5cf-94cf4a85e534",
   "metadata": {},
   "outputs": [
    {
     "data": {
      "text/plain": [
       "(180040, 30212, 30135, 30135)"
      ]
     },
     "execution_count": 12,
     "metadata": {},
     "output_type": "execute_result"
    }
   ],
   "source": [
    "# Convert abstract tex lins into lists\n",
    "train_sentences = train_df[\"text\"].tolist()\n",
    "val_sentences = val_df[\"text\"].tolist()\n",
    "test_sentences = test_df[\"text\"].tolist()\n",
    "len(train_sentences), len(val_sentences), len(test_sentences),len(test_sentences)"
   ]
  },
  {
   "cell_type": "markdown",
   "id": "c8e485a2-ef35-432e-8972-5ec40fa04541",
   "metadata": {},
   "source": [
    "**Numerically encoding the labels**"
   ]
  },
  {
   "cell_type": "code",
   "execution_count": 13,
   "id": "ffc2ef16-578a-4d70-a375-6cc8bf7dcdb1",
   "metadata": {},
   "outputs": [],
   "source": [
    "# One hot encode labels\n",
    "from sklearn.preprocessing import OneHotEncoder\n",
    "\n",
    "one_hot_encoder = OneHotEncoder(sparse_output=False)\n",
    "train_labels_one_hot = one_hot_encoder.fit_transform(train_df['target'].to_numpy().reshape(-1, 1))\n",
    "val_labels_one_hot = one_hot_encoder.transform(val_df['target'].to_numpy().reshape(-1,1))\n",
    "test_labels_one_hot = one_hot_encoder.transform(test_df['target'].to_numpy().reshape(-1,1))"
   ]
  },
  {
   "cell_type": "code",
   "execution_count": 14,
   "id": "bb08fe35-ec16-4bf4-ba8a-d1621a64863d",
   "metadata": {},
   "outputs": [],
   "source": [
    "# Extract labels ('target' columns) and encode them into integers\n",
    "from sklearn.preprocessing import OneHotEncoder\n",
    "one_hot_encoder = OneHotEncoder(sparse_output=False)\n",
    "train_labels_one_hot = one_hot_encoder.fit_transform(train_df[\"target\"].to_numpy().reshape(-1, 1))\n",
    "val_labels_one_hot = one_hot_encoder.transform(val_df[\"target\"].to_numpy().reshape(-1, 1))\n",
    "test_labels_one_hot = one_hot_encoder.transform(test_df[\"target\"].to_numpy().reshape(-1, 1))"
   ]
  },
  {
   "cell_type": "code",
   "execution_count": 15,
   "id": "f6d5f1d5-25fe-460e-a017-4f001556e9d2",
   "metadata": {},
   "outputs": [
    {
     "data": {
      "text/plain": [
       "array([3, 2, 2, ..., 4, 1, 1])"
      ]
     },
     "execution_count": 15,
     "metadata": {},
     "output_type": "execute_result"
    }
   ],
   "source": [
    "# Extract labels (\"target\" columns) and encode them into integers \n",
    "from sklearn.preprocessing import LabelEncoder\n",
    "label_encoder = LabelEncoder()\n",
    "train_labels_encoded = label_encoder.fit_transform(train_df[\"target\"].to_numpy())\n",
    "val_labels_encoded = label_encoder.transform(val_df[\"target\"].to_numpy())\n",
    "test_labels_encoded = label_encoder.transform(test_df[\"target\"].to_numpy())\n",
    "\n",
    "# Check what training labels look like\n",
    "train_labels_encoded"
   ]
  },
  {
   "cell_type": "code",
   "execution_count": 16,
   "id": "8f10fb5e-55b1-451a-be10-6e6065e524fc",
   "metadata": {},
   "outputs": [
    {
     "data": {
      "text/plain": [
       "(5,\n",
       " array(['BACKGROUND', 'CONCLUSIONS', 'METHODS', 'OBJECTIVE', 'RESULTS'],\n",
       "       dtype=object))"
      ]
     },
     "execution_count": 16,
     "metadata": {},
     "output_type": "execute_result"
    }
   ],
   "source": [
    "# Get class names and number of classes from LabelEncoder instance \n",
    "num_classes = len(label_encoder.classes_)\n",
    "class_names = label_encoder.classes_\n",
    "num_classes, class_names\n",
    "     "
   ]
  },
  {
   "cell_type": "markdown",
   "id": "313ea5d7-e599-4869-ba81-670a44e6e762",
   "metadata": {},
   "source": [
    "# Creating Models"
   ]
  },
  {
   "cell_type": "markdown",
   "id": "38504a26-91f0-465f-986f-8267ec295b62",
   "metadata": {},
   "source": [
    "## Model 0: Getting a baseline (TF-IDF Multinomial Naive Bayes classifier)"
   ]
  },
  {
   "cell_type": "code",
   "execution_count": 17,
   "id": "84dc7b12-e2d3-4e21-81e9-ead172261ff2",
   "metadata": {},
   "outputs": [],
   "source": [
    "from sklearn.feature_extraction.text import TfidfVectorizer\n",
    "from sklearn.naive_bayes import MultinomialNB\n",
    "from sklearn.pipeline import Pipeline"
   ]
  },
  {
   "cell_type": "code",
   "execution_count": 18,
   "id": "056e46aa-9e54-4f87-bf82-f0a1367ab75a",
   "metadata": {},
   "outputs": [
    {
     "data": {
      "text/html": [
       "<style>#sk-container-id-1 {\n",
       "  /* Definition of color scheme common for light and dark mode */\n",
       "  --sklearn-color-text: black;\n",
       "  --sklearn-color-line: gray;\n",
       "  /* Definition of color scheme for unfitted estimators */\n",
       "  --sklearn-color-unfitted-level-0: #fff5e6;\n",
       "  --sklearn-color-unfitted-level-1: #f6e4d2;\n",
       "  --sklearn-color-unfitted-level-2: #ffe0b3;\n",
       "  --sklearn-color-unfitted-level-3: chocolate;\n",
       "  /* Definition of color scheme for fitted estimators */\n",
       "  --sklearn-color-fitted-level-0: #f0f8ff;\n",
       "  --sklearn-color-fitted-level-1: #d4ebff;\n",
       "  --sklearn-color-fitted-level-2: #b3dbfd;\n",
       "  --sklearn-color-fitted-level-3: cornflowerblue;\n",
       "\n",
       "  /* Specific color for light theme */\n",
       "  --sklearn-color-text-on-default-background: var(--sg-text-color, var(--theme-code-foreground, var(--jp-content-font-color1, black)));\n",
       "  --sklearn-color-background: var(--sg-background-color, var(--theme-background, var(--jp-layout-color0, white)));\n",
       "  --sklearn-color-border-box: var(--sg-text-color, var(--theme-code-foreground, var(--jp-content-font-color1, black)));\n",
       "  --sklearn-color-icon: #696969;\n",
       "\n",
       "  @media (prefers-color-scheme: dark) {\n",
       "    /* Redefinition of color scheme for dark theme */\n",
       "    --sklearn-color-text-on-default-background: var(--sg-text-color, var(--theme-code-foreground, var(--jp-content-font-color1, white)));\n",
       "    --sklearn-color-background: var(--sg-background-color, var(--theme-background, var(--jp-layout-color0, #111)));\n",
       "    --sklearn-color-border-box: var(--sg-text-color, var(--theme-code-foreground, var(--jp-content-font-color1, white)));\n",
       "    --sklearn-color-icon: #878787;\n",
       "  }\n",
       "}\n",
       "\n",
       "#sk-container-id-1 {\n",
       "  color: var(--sklearn-color-text);\n",
       "}\n",
       "\n",
       "#sk-container-id-1 pre {\n",
       "  padding: 0;\n",
       "}\n",
       "\n",
       "#sk-container-id-1 input.sk-hidden--visually {\n",
       "  border: 0;\n",
       "  clip: rect(1px 1px 1px 1px);\n",
       "  clip: rect(1px, 1px, 1px, 1px);\n",
       "  height: 1px;\n",
       "  margin: -1px;\n",
       "  overflow: hidden;\n",
       "  padding: 0;\n",
       "  position: absolute;\n",
       "  width: 1px;\n",
       "}\n",
       "\n",
       "#sk-container-id-1 div.sk-dashed-wrapped {\n",
       "  border: 1px dashed var(--sklearn-color-line);\n",
       "  margin: 0 0.4em 0.5em 0.4em;\n",
       "  box-sizing: border-box;\n",
       "  padding-bottom: 0.4em;\n",
       "  background-color: var(--sklearn-color-background);\n",
       "}\n",
       "\n",
       "#sk-container-id-1 div.sk-container {\n",
       "  /* jupyter's `normalize.less` sets `[hidden] { display: none; }`\n",
       "     but bootstrap.min.css set `[hidden] { display: none !important; }`\n",
       "     so we also need the `!important` here to be able to override the\n",
       "     default hidden behavior on the sphinx rendered scikit-learn.org.\n",
       "     See: https://github.com/scikit-learn/scikit-learn/issues/21755 */\n",
       "  display: inline-block !important;\n",
       "  position: relative;\n",
       "}\n",
       "\n",
       "#sk-container-id-1 div.sk-text-repr-fallback {\n",
       "  display: none;\n",
       "}\n",
       "\n",
       "div.sk-parallel-item,\n",
       "div.sk-serial,\n",
       "div.sk-item {\n",
       "  /* draw centered vertical line to link estimators */\n",
       "  background-image: linear-gradient(var(--sklearn-color-text-on-default-background), var(--sklearn-color-text-on-default-background));\n",
       "  background-size: 2px 100%;\n",
       "  background-repeat: no-repeat;\n",
       "  background-position: center center;\n",
       "}\n",
       "\n",
       "/* Parallel-specific style estimator block */\n",
       "\n",
       "#sk-container-id-1 div.sk-parallel-item::after {\n",
       "  content: \"\";\n",
       "  width: 100%;\n",
       "  border-bottom: 2px solid var(--sklearn-color-text-on-default-background);\n",
       "  flex-grow: 1;\n",
       "}\n",
       "\n",
       "#sk-container-id-1 div.sk-parallel {\n",
       "  display: flex;\n",
       "  align-items: stretch;\n",
       "  justify-content: center;\n",
       "  background-color: var(--sklearn-color-background);\n",
       "  position: relative;\n",
       "}\n",
       "\n",
       "#sk-container-id-1 div.sk-parallel-item {\n",
       "  display: flex;\n",
       "  flex-direction: column;\n",
       "}\n",
       "\n",
       "#sk-container-id-1 div.sk-parallel-item:first-child::after {\n",
       "  align-self: flex-end;\n",
       "  width: 50%;\n",
       "}\n",
       "\n",
       "#sk-container-id-1 div.sk-parallel-item:last-child::after {\n",
       "  align-self: flex-start;\n",
       "  width: 50%;\n",
       "}\n",
       "\n",
       "#sk-container-id-1 div.sk-parallel-item:only-child::after {\n",
       "  width: 0;\n",
       "}\n",
       "\n",
       "/* Serial-specific style estimator block */\n",
       "\n",
       "#sk-container-id-1 div.sk-serial {\n",
       "  display: flex;\n",
       "  flex-direction: column;\n",
       "  align-items: center;\n",
       "  background-color: var(--sklearn-color-background);\n",
       "  padding-right: 1em;\n",
       "  padding-left: 1em;\n",
       "}\n",
       "\n",
       "\n",
       "/* Toggleable style: style used for estimator/Pipeline/ColumnTransformer box that is\n",
       "clickable and can be expanded/collapsed.\n",
       "- Pipeline and ColumnTransformer use this feature and define the default style\n",
       "- Estimators will overwrite some part of the style using the `sk-estimator` class\n",
       "*/\n",
       "\n",
       "/* Pipeline and ColumnTransformer style (default) */\n",
       "\n",
       "#sk-container-id-1 div.sk-toggleable {\n",
       "  /* Default theme specific background. It is overwritten whether we have a\n",
       "  specific estimator or a Pipeline/ColumnTransformer */\n",
       "  background-color: var(--sklearn-color-background);\n",
       "}\n",
       "\n",
       "/* Toggleable label */\n",
       "#sk-container-id-1 label.sk-toggleable__label {\n",
       "  cursor: pointer;\n",
       "  display: block;\n",
       "  width: 100%;\n",
       "  margin-bottom: 0;\n",
       "  padding: 0.5em;\n",
       "  box-sizing: border-box;\n",
       "  text-align: center;\n",
       "}\n",
       "\n",
       "#sk-container-id-1 label.sk-toggleable__label-arrow:before {\n",
       "  /* Arrow on the left of the label */\n",
       "  content: \"▸\";\n",
       "  float: left;\n",
       "  margin-right: 0.25em;\n",
       "  color: var(--sklearn-color-icon);\n",
       "}\n",
       "\n",
       "#sk-container-id-1 label.sk-toggleable__label-arrow:hover:before {\n",
       "  color: var(--sklearn-color-text);\n",
       "}\n",
       "\n",
       "/* Toggleable content - dropdown */\n",
       "\n",
       "#sk-container-id-1 div.sk-toggleable__content {\n",
       "  max-height: 0;\n",
       "  max-width: 0;\n",
       "  overflow: hidden;\n",
       "  text-align: left;\n",
       "  /* unfitted */\n",
       "  background-color: var(--sklearn-color-unfitted-level-0);\n",
       "}\n",
       "\n",
       "#sk-container-id-1 div.sk-toggleable__content.fitted {\n",
       "  /* fitted */\n",
       "  background-color: var(--sklearn-color-fitted-level-0);\n",
       "}\n",
       "\n",
       "#sk-container-id-1 div.sk-toggleable__content pre {\n",
       "  margin: 0.2em;\n",
       "  border-radius: 0.25em;\n",
       "  color: var(--sklearn-color-text);\n",
       "  /* unfitted */\n",
       "  background-color: var(--sklearn-color-unfitted-level-0);\n",
       "}\n",
       "\n",
       "#sk-container-id-1 div.sk-toggleable__content.fitted pre {\n",
       "  /* unfitted */\n",
       "  background-color: var(--sklearn-color-fitted-level-0);\n",
       "}\n",
       "\n",
       "#sk-container-id-1 input.sk-toggleable__control:checked~div.sk-toggleable__content {\n",
       "  /* Expand drop-down */\n",
       "  max-height: 200px;\n",
       "  max-width: 100%;\n",
       "  overflow: auto;\n",
       "}\n",
       "\n",
       "#sk-container-id-1 input.sk-toggleable__control:checked~label.sk-toggleable__label-arrow:before {\n",
       "  content: \"▾\";\n",
       "}\n",
       "\n",
       "/* Pipeline/ColumnTransformer-specific style */\n",
       "\n",
       "#sk-container-id-1 div.sk-label input.sk-toggleable__control:checked~label.sk-toggleable__label {\n",
       "  color: var(--sklearn-color-text);\n",
       "  background-color: var(--sklearn-color-unfitted-level-2);\n",
       "}\n",
       "\n",
       "#sk-container-id-1 div.sk-label.fitted input.sk-toggleable__control:checked~label.sk-toggleable__label {\n",
       "  background-color: var(--sklearn-color-fitted-level-2);\n",
       "}\n",
       "\n",
       "/* Estimator-specific style */\n",
       "\n",
       "/* Colorize estimator box */\n",
       "#sk-container-id-1 div.sk-estimator input.sk-toggleable__control:checked~label.sk-toggleable__label {\n",
       "  /* unfitted */\n",
       "  background-color: var(--sklearn-color-unfitted-level-2);\n",
       "}\n",
       "\n",
       "#sk-container-id-1 div.sk-estimator.fitted input.sk-toggleable__control:checked~label.sk-toggleable__label {\n",
       "  /* fitted */\n",
       "  background-color: var(--sklearn-color-fitted-level-2);\n",
       "}\n",
       "\n",
       "#sk-container-id-1 div.sk-label label.sk-toggleable__label,\n",
       "#sk-container-id-1 div.sk-label label {\n",
       "  /* The background is the default theme color */\n",
       "  color: var(--sklearn-color-text-on-default-background);\n",
       "}\n",
       "\n",
       "/* On hover, darken the color of the background */\n",
       "#sk-container-id-1 div.sk-label:hover label.sk-toggleable__label {\n",
       "  color: var(--sklearn-color-text);\n",
       "  background-color: var(--sklearn-color-unfitted-level-2);\n",
       "}\n",
       "\n",
       "/* Label box, darken color on hover, fitted */\n",
       "#sk-container-id-1 div.sk-label.fitted:hover label.sk-toggleable__label.fitted {\n",
       "  color: var(--sklearn-color-text);\n",
       "  background-color: var(--sklearn-color-fitted-level-2);\n",
       "}\n",
       "\n",
       "/* Estimator label */\n",
       "\n",
       "#sk-container-id-1 div.sk-label label {\n",
       "  font-family: monospace;\n",
       "  font-weight: bold;\n",
       "  display: inline-block;\n",
       "  line-height: 1.2em;\n",
       "}\n",
       "\n",
       "#sk-container-id-1 div.sk-label-container {\n",
       "  text-align: center;\n",
       "}\n",
       "\n",
       "/* Estimator-specific */\n",
       "#sk-container-id-1 div.sk-estimator {\n",
       "  font-family: monospace;\n",
       "  border: 1px dotted var(--sklearn-color-border-box);\n",
       "  border-radius: 0.25em;\n",
       "  box-sizing: border-box;\n",
       "  margin-bottom: 0.5em;\n",
       "  /* unfitted */\n",
       "  background-color: var(--sklearn-color-unfitted-level-0);\n",
       "}\n",
       "\n",
       "#sk-container-id-1 div.sk-estimator.fitted {\n",
       "  /* fitted */\n",
       "  background-color: var(--sklearn-color-fitted-level-0);\n",
       "}\n",
       "\n",
       "/* on hover */\n",
       "#sk-container-id-1 div.sk-estimator:hover {\n",
       "  /* unfitted */\n",
       "  background-color: var(--sklearn-color-unfitted-level-2);\n",
       "}\n",
       "\n",
       "#sk-container-id-1 div.sk-estimator.fitted:hover {\n",
       "  /* fitted */\n",
       "  background-color: var(--sklearn-color-fitted-level-2);\n",
       "}\n",
       "\n",
       "/* Specification for estimator info (e.g. \"i\" and \"?\") */\n",
       "\n",
       "/* Common style for \"i\" and \"?\" */\n",
       "\n",
       ".sk-estimator-doc-link,\n",
       "a:link.sk-estimator-doc-link,\n",
       "a:visited.sk-estimator-doc-link {\n",
       "  float: right;\n",
       "  font-size: smaller;\n",
       "  line-height: 1em;\n",
       "  font-family: monospace;\n",
       "  background-color: var(--sklearn-color-background);\n",
       "  border-radius: 1em;\n",
       "  height: 1em;\n",
       "  width: 1em;\n",
       "  text-decoration: none !important;\n",
       "  margin-left: 1ex;\n",
       "  /* unfitted */\n",
       "  border: var(--sklearn-color-unfitted-level-1) 1pt solid;\n",
       "  color: var(--sklearn-color-unfitted-level-1);\n",
       "}\n",
       "\n",
       ".sk-estimator-doc-link.fitted,\n",
       "a:link.sk-estimator-doc-link.fitted,\n",
       "a:visited.sk-estimator-doc-link.fitted {\n",
       "  /* fitted */\n",
       "  border: var(--sklearn-color-fitted-level-1) 1pt solid;\n",
       "  color: var(--sklearn-color-fitted-level-1);\n",
       "}\n",
       "\n",
       "/* On hover */\n",
       "div.sk-estimator:hover .sk-estimator-doc-link:hover,\n",
       ".sk-estimator-doc-link:hover,\n",
       "div.sk-label-container:hover .sk-estimator-doc-link:hover,\n",
       ".sk-estimator-doc-link:hover {\n",
       "  /* unfitted */\n",
       "  background-color: var(--sklearn-color-unfitted-level-3);\n",
       "  color: var(--sklearn-color-background);\n",
       "  text-decoration: none;\n",
       "}\n",
       "\n",
       "div.sk-estimator.fitted:hover .sk-estimator-doc-link.fitted:hover,\n",
       ".sk-estimator-doc-link.fitted:hover,\n",
       "div.sk-label-container:hover .sk-estimator-doc-link.fitted:hover,\n",
       ".sk-estimator-doc-link.fitted:hover {\n",
       "  /* fitted */\n",
       "  background-color: var(--sklearn-color-fitted-level-3);\n",
       "  color: var(--sklearn-color-background);\n",
       "  text-decoration: none;\n",
       "}\n",
       "\n",
       "/* Span, style for the box shown on hovering the info icon */\n",
       ".sk-estimator-doc-link span {\n",
       "  display: none;\n",
       "  z-index: 9999;\n",
       "  position: relative;\n",
       "  font-weight: normal;\n",
       "  right: .2ex;\n",
       "  padding: .5ex;\n",
       "  margin: .5ex;\n",
       "  width: min-content;\n",
       "  min-width: 20ex;\n",
       "  max-width: 50ex;\n",
       "  color: var(--sklearn-color-text);\n",
       "  box-shadow: 2pt 2pt 4pt #999;\n",
       "  /* unfitted */\n",
       "  background: var(--sklearn-color-unfitted-level-0);\n",
       "  border: .5pt solid var(--sklearn-color-unfitted-level-3);\n",
       "}\n",
       "\n",
       ".sk-estimator-doc-link.fitted span {\n",
       "  /* fitted */\n",
       "  background: var(--sklearn-color-fitted-level-0);\n",
       "  border: var(--sklearn-color-fitted-level-3);\n",
       "}\n",
       "\n",
       ".sk-estimator-doc-link:hover span {\n",
       "  display: block;\n",
       "}\n",
       "\n",
       "/* \"?\"-specific style due to the `<a>` HTML tag */\n",
       "\n",
       "#sk-container-id-1 a.estimator_doc_link {\n",
       "  float: right;\n",
       "  font-size: 1rem;\n",
       "  line-height: 1em;\n",
       "  font-family: monospace;\n",
       "  background-color: var(--sklearn-color-background);\n",
       "  border-radius: 1rem;\n",
       "  height: 1rem;\n",
       "  width: 1rem;\n",
       "  text-decoration: none;\n",
       "  /* unfitted */\n",
       "  color: var(--sklearn-color-unfitted-level-1);\n",
       "  border: var(--sklearn-color-unfitted-level-1) 1pt solid;\n",
       "}\n",
       "\n",
       "#sk-container-id-1 a.estimator_doc_link.fitted {\n",
       "  /* fitted */\n",
       "  border: var(--sklearn-color-fitted-level-1) 1pt solid;\n",
       "  color: var(--sklearn-color-fitted-level-1);\n",
       "}\n",
       "\n",
       "/* On hover */\n",
       "#sk-container-id-1 a.estimator_doc_link:hover {\n",
       "  /* unfitted */\n",
       "  background-color: var(--sklearn-color-unfitted-level-3);\n",
       "  color: var(--sklearn-color-background);\n",
       "  text-decoration: none;\n",
       "}\n",
       "\n",
       "#sk-container-id-1 a.estimator_doc_link.fitted:hover {\n",
       "  /* fitted */\n",
       "  background-color: var(--sklearn-color-fitted-level-3);\n",
       "}\n",
       "</style><div id=\"sk-container-id-1\" class=\"sk-top-container\"><div class=\"sk-text-repr-fallback\"><pre>Pipeline(steps=[(&#x27;tf-idf&#x27;, TfidfVectorizer()), (&#x27;clf&#x27;, MultinomialNB())])</pre><b>In a Jupyter environment, please rerun this cell to show the HTML representation or trust the notebook. <br />On GitHub, the HTML representation is unable to render, please try loading this page with nbviewer.org.</b></div><div class=\"sk-container\" hidden><div class=\"sk-item sk-dashed-wrapped\"><div class=\"sk-label-container\"><div class=\"sk-label fitted sk-toggleable\"><input class=\"sk-toggleable__control sk-hidden--visually\" id=\"sk-estimator-id-1\" type=\"checkbox\" ><label for=\"sk-estimator-id-1\" class=\"sk-toggleable__label fitted sk-toggleable__label-arrow fitted\">&nbsp;&nbsp;Pipeline<a class=\"sk-estimator-doc-link fitted\" rel=\"noreferrer\" target=\"_blank\" href=\"https://scikit-learn.org/1.5/modules/generated/sklearn.pipeline.Pipeline.html\">?<span>Documentation for Pipeline</span></a><span class=\"sk-estimator-doc-link fitted\">i<span>Fitted</span></span></label><div class=\"sk-toggleable__content fitted\"><pre>Pipeline(steps=[(&#x27;tf-idf&#x27;, TfidfVectorizer()), (&#x27;clf&#x27;, MultinomialNB())])</pre></div> </div></div><div class=\"sk-serial\"><div class=\"sk-item\"><div class=\"sk-estimator fitted sk-toggleable\"><input class=\"sk-toggleable__control sk-hidden--visually\" id=\"sk-estimator-id-2\" type=\"checkbox\" ><label for=\"sk-estimator-id-2\" class=\"sk-toggleable__label fitted sk-toggleable__label-arrow fitted\">&nbsp;TfidfVectorizer<a class=\"sk-estimator-doc-link fitted\" rel=\"noreferrer\" target=\"_blank\" href=\"https://scikit-learn.org/1.5/modules/generated/sklearn.feature_extraction.text.TfidfVectorizer.html\">?<span>Documentation for TfidfVectorizer</span></a></label><div class=\"sk-toggleable__content fitted\"><pre>TfidfVectorizer()</pre></div> </div></div><div class=\"sk-item\"><div class=\"sk-estimator fitted sk-toggleable\"><input class=\"sk-toggleable__control sk-hidden--visually\" id=\"sk-estimator-id-3\" type=\"checkbox\" ><label for=\"sk-estimator-id-3\" class=\"sk-toggleable__label fitted sk-toggleable__label-arrow fitted\">&nbsp;MultinomialNB<a class=\"sk-estimator-doc-link fitted\" rel=\"noreferrer\" target=\"_blank\" href=\"https://scikit-learn.org/1.5/modules/generated/sklearn.naive_bayes.MultinomialNB.html\">?<span>Documentation for MultinomialNB</span></a></label><div class=\"sk-toggleable__content fitted\"><pre>MultinomialNB()</pre></div> </div></div></div></div></div></div>"
      ],
      "text/plain": [
       "Pipeline(steps=[('tf-idf', TfidfVectorizer()), ('clf', MultinomialNB())])"
      ]
     },
     "execution_count": 18,
     "metadata": {},
     "output_type": "execute_result"
    }
   ],
   "source": [
    "# Create a Pipeline\n",
    "model_0 = Pipeline([\n",
    "    ('tf-idf', TfidfVectorizer()),\n",
    "    ('clf',MultinomialNB())\n",
    "])\n",
    "# Fit the pipeline to training data\n",
    "model_0.fit(X=train_sentences,y=train_labels_encoded)"
   ]
  },
  {
   "cell_type": "code",
   "execution_count": 19,
   "id": "c3bd1a18-2048-4106-9880-af909ff223ff",
   "metadata": {},
   "outputs": [
    {
     "data": {
      "text/plain": [
       "0.7218323844829869"
      ]
     },
     "execution_count": 19,
     "metadata": {},
     "output_type": "execute_result"
    }
   ],
   "source": [
    "# Evaluate baseline model on validation dataset\n",
    "model_0.score(X = val_sentences,\n",
    "             y = val_labels_encoded)"
   ]
  },
  {
   "cell_type": "code",
   "execution_count": 20,
   "id": "a40ea131-79bc-4fb5-98a9-42454099901b",
   "metadata": {},
   "outputs": [
    {
     "data": {
      "text/plain": [
       "array([4, 1, 3, ..., 4, 4, 1])"
      ]
     },
     "execution_count": 20,
     "metadata": {},
     "output_type": "execute_result"
    }
   ],
   "source": [
    "# Make predictions using our baseline model\n",
    "baseline_preds = model_0.predict(val_sentences)\n",
    "baseline_preds"
   ]
  },
  {
   "cell_type": "code",
   "execution_count": 21,
   "id": "641ae4c6-a898-417c-ac23-c6f5dec478f1",
   "metadata": {},
   "outputs": [
    {
     "data": {
      "text/plain": [
       "array([0, 0, 3, ..., 4, 1, 1])"
      ]
     },
     "execution_count": 21,
     "metadata": {},
     "output_type": "execute_result"
    }
   ],
   "source": [
    "val_labels_encoded"
   ]
  },
  {
   "cell_type": "code",
   "execution_count": 22,
   "id": "a3be788e-8ba4-402f-9380-6e8d15de5ee8",
   "metadata": {},
   "outputs": [],
   "source": [
    "from helper_functions import calculate_results"
   ]
  },
  {
   "cell_type": "code",
   "execution_count": 23,
   "id": "5adb3069-3824-4e3e-bc0a-7acf522547a1",
   "metadata": {},
   "outputs": [
    {
     "data": {
      "text/plain": [
       "{'accuracy': 72.1832384482987,\n",
       " 'precision': 0.7186466952323352,\n",
       " 'recall': 0.7218323844829869,\n",
       " 'f1': 0.6989250353450294}"
      ]
     },
     "execution_count": 23,
     "metadata": {},
     "output_type": "execute_result"
    }
   ],
   "source": [
    "# Calculate baseline results\n",
    "baseline_results = calculate_results(y_true=val_labels_encoded,\n",
    "                                    y_pred=baseline_preds)\n",
    "baseline_results"
   ]
  },
  {
   "cell_type": "code",
   "execution_count": 24,
   "id": "160393d8-e10b-4346-812a-e28220821155",
   "metadata": {},
   "outputs": [],
   "source": [
    "# Preparing our data for the deep sequence model\n",
    "import numpy as np\n",
    "import tensorflow as tf\n",
    "from tensorflow.keras import layers"
   ]
  },
  {
   "cell_type": "code",
   "execution_count": 25,
   "id": "5a37e93d-abb3-4d70-8985-1fd4be2a0bc9",
   "metadata": {},
   "outputs": [
    {
     "data": {
      "text/plain": [
       "26.338269273494777"
      ]
     },
     "execution_count": 25,
     "metadata": {},
     "output_type": "execute_result"
    }
   ],
   "source": [
    "# How long is each sentence on average?\n",
    "sent_lens = [len(sentence.split()) for sentence in train_sentences]\n",
    "avg_sent_len = np.mean(sent_lens)\n",
    "avg_sent_len"
   ]
  },
  {
   "cell_type": "code",
   "execution_count": 26,
   "id": "acb8a111-253c-4d00-b6a0-899f47b8922f",
   "metadata": {},
   "outputs": [
    {
     "data": {
      "image/png": "[encoded data removed]",
      "text/plain": [
       "<Figure size 640x480 with 1 Axes>"
      ]
     },
     "metadata": {},
     "output_type": "display_data"
    }
   ],
   "source": [
    "import matplotlib.pyplot as plt\n",
    "plt.hist(sent_lens,bins=20);"
   ]
  },
  {
   "cell_type": "code",
   "execution_count": 27,
   "id": "54246046-2122-4e58-9e9e-61f31c353846",
   "metadata": {},
   "outputs": [
    {
     "data": {
      "text/plain": [
       "55"
      ]
     },
     "execution_count": 27,
     "metadata": {},
     "output_type": "execute_result"
    }
   ],
   "source": [
    "output_seq_len = int(np.percentile(sent_lens,95))\n",
    "output_seq_len"
   ]
  },
  {
   "cell_type": "markdown",
   "id": "6de675ed-624e-44f5-8899-3b9a81521c3c",
   "metadata": {},
   "source": [
    "It means 95% of the sentences has length of word within 55 "
   ]
  },
  {
   "cell_type": "code",
   "execution_count": 28,
   "id": "c369d3c5-6d01-480a-bc94-58b28ece8890",
   "metadata": {},
   "outputs": [
    {
     "data": {
      "text/plain": [
       "296"
      ]
     },
     "execution_count": 28,
     "metadata": {},
     "output_type": "execute_result"
    }
   ],
   "source": [
    "max(sent_lens)"
   ]
  },
  {
   "cell_type": "markdown",
   "id": "a3434ea7-83da-4802-b315-55453e84a263",
   "metadata": {},
   "source": [
    "### Create text vectorizer layer\n",
    "We want to make a layer which maps our text from words to numbers"
   ]
  },
  {
   "cell_type": "code",
   "execution_count": 29,
   "id": "c5e3c80b-ee56-463c-b016-0d5bdd8cf89b",
   "metadata": {},
   "outputs": [],
   "source": [
    "max_tokens = 68000"
   ]
  },
  {
   "cell_type": "code",
   "execution_count": 30,
   "id": "b6860c6c-4a30-4c84-b379-d7d3e7852abc",
   "metadata": {},
   "outputs": [
    {
     "name": "stdout",
     "output_type": "stream",
     "text": [
      "WARNING:tensorflow:From C:\\Users\\jagam\\anaconda3\\envs\\tensorflow\\lib\\site-packages\\keras\\src\\backend.py:873: The name tf.get_default_graph is deprecated. Please use tf.compat.v1.get_default_graph instead.\n",
      "\n"
     ]
    }
   ],
   "source": [
    "# Create text vectorizer\n",
    "from tensorflow.keras.layers.experimental.preprocessing import TextVectorization\n",
    "text_vectorizer = TextVectorization(max_tokens=max_tokens, # no of words in vocabulay\n",
    "                                   output_sequence_length=output_seq_len) # desired output length of vectorized sequence"
   ]
  },
  {
   "cell_type": "code",
   "execution_count": 31,
   "id": "e1de6d7e-b2ae-4b31-909a-5e0f0b308ad7",
   "metadata": {},
   "outputs": [
    {
     "name": "stdout",
     "output_type": "stream",
     "text": [
      "WARNING:tensorflow:From C:\\Users\\jagam\\anaconda3\\envs\\tensorflow\\lib\\site-packages\\keras\\src\\utils\\tf_utils.py:492: The name tf.ragged.RaggedTensorValue is deprecated. Please use tf.compat.v1.ragged.RaggedTensorValue instead.\n",
      "\n"
     ]
    }
   ],
   "source": [
    "# Adapt text vectorizer to training sentence\n",
    "text_vectorizer.adapt(train_sentences)"
   ]
  },
  {
   "cell_type": "code",
   "execution_count": 32,
   "id": "2006b963-f415-4f9a-97e2-4b01616dd802",
   "metadata": {},
   "outputs": [
    {
     "name": "stdout",
     "output_type": "stream",
     "text": [
      "Text:\n",
      "stroke is one of the most common causes of cognitive impairment .\n",
      "\n",
      "Length of text: 12\n",
      "\n",
      "Vectorized text:\n",
      "[[ 276   20   88    4    2  215  317 1726    4  301  798    0    0    0\n",
      "     0    0    0    0    0    0    0    0    0    0    0    0    0    0\n",
      "     0    0    0    0    0    0    0    0    0    0    0    0    0    0\n",
      "     0    0    0    0    0    0    0    0    0    0    0    0    0]]\n"
     ]
    }
   ],
   "source": [
    "# Test out text vectorizer\n",
    "import random\n",
    "target_sentence = random.choice(train_sentences)\n",
    "print(f\"Text:\\n{target_sentence}\")\n",
    "print(f\"\\nLength of text: {len(target_sentence.split())}\")\n",
    "print(f\"\\nVectorized text:\\n{text_vectorizer([target_sentence])}\")"
   ]
  },
  {
   "cell_type": "code",
   "execution_count": 33,
   "id": "ad2879bc-72f4-4e4d-8a25-7b9e8ac511b4",
   "metadata": {},
   "outputs": [
    {
     "name": "stdout",
     "output_type": "stream",
     "text": [
      "Number of words in vocab: 64841\n",
      "Most common words in the vocab: ['', '[UNK]', 'the', 'and', 'of']\n",
      "Least common words in the vocab: ['aainduced', 'aaigroup', 'aachener', 'aachen', 'aaacp']\n"
     ]
    }
   ],
   "source": [
    "# How many words in our training vacabulary\n",
    "rct_20k_text_vocab = text_vectorizer.get_vocabulary()\n",
    "print(f'Number of words in vocab: {len(rct_20k_text_vocab)}')\n",
    "print(f'Most common words in the vocab: {rct_20k_text_vocab[:5]}')\n",
    "print(f\"Least common words in the vocab: {rct_20k_text_vocab[-5:]}\")"
   ]
  },
  {
   "cell_type": "code",
   "execution_count": 34,
   "id": "ab171fdf-9af4-4ad2-9d57-99bb4634d983",
   "metadata": {},
   "outputs": [
    {
     "data": {
      "text/plain": [
       "{'name': 'text_vectorization',\n",
       " 'trainable': True,\n",
       " 'dtype': 'string',\n",
       " 'batch_input_shape': (None,),\n",
       " 'max_tokens': 68000,\n",
       " 'standardize': 'lower_and_strip_punctuation',\n",
       " 'split': 'whitespace',\n",
       " 'ngrams': None,\n",
       " 'output_mode': 'int',\n",
       " 'output_sequence_length': 55,\n",
       " 'pad_to_max_tokens': False,\n",
       " 'sparse': False,\n",
       " 'ragged': False,\n",
       " 'vocabulary': None,\n",
       " 'idf_weights': None,\n",
       " 'encoding': 'utf-8',\n",
       " 'vocabulary_size': 64841}"
      ]
     },
     "execution_count": 34,
     "metadata": {},
     "output_type": "execute_result"
    }
   ],
   "source": [
    "# Get the config of our text vect\n",
    "text_vectorizer.get_config()"
   ]
  },
  {
   "cell_type": "markdown",
   "id": "ee57be3c-1f2f-4241-9b44-c9bb6fadd0c8",
   "metadata": {},
   "source": [
    "### Create custom text embedding"
   ]
  },
  {
   "cell_type": "code",
   "execution_count": 35,
   "id": "3b31bb15-475d-4c23-bab9-b0fac29da6da",
   "metadata": {},
   "outputs": [],
   "source": [
    "# Create token embedding layer\n",
    "token_embed = layers.Embedding(input_dim=len(rct_20k_text_vocab),# length of vocab,\n",
    "                              output_dim=128,# Diff embedding size will result in diff parameters that model train from\n",
    "                              mask_zero =True,# Use making to handel variable sequence length (save space)\n",
    "                              name = 'token_embedding')"
   ]
  },
  {
   "cell_type": "code",
   "execution_count": 36,
   "id": "1a6a2f85-0d12-493e-be27-2c444dfd821c",
   "metadata": {},
   "outputs": [
    {
     "name": "stdout",
     "output_type": "stream",
     "text": [
      "Sentence before vectorization:\n",
      "stroke is one of the most common causes of cognitive impairment .\n",
      "\n",
      "Sentences after vectorization (before embedding):\n",
      " [[ 276   20   88    4    2  215  317 1726    4  301  798    0    0    0\n",
      "     0    0    0    0    0    0    0    0    0    0    0    0    0    0\n",
      "     0    0    0    0    0    0    0    0    0    0    0    0    0    0\n",
      "     0    0    0    0    0    0    0    0    0    0    0    0    0]]\n",
      "\n",
      "Sentence after embedding:\n",
      " [[[ 0.02913369 -0.01055495  0.00659859 ... -0.01267391 -0.00523426\n",
      "    0.04044617]\n",
      "  [ 0.04527066 -0.01039926  0.00176756 ...  0.0200626   0.03438184\n",
      "    0.00471771]\n",
      "  [ 0.04359342 -0.03401311  0.0003106  ...  0.02957891 -0.03811004\n",
      "   -0.01256709]\n",
      "  ...\n",
      "  [ 0.04735554  0.01250775  0.00816926 ...  0.02311977 -0.02051692\n",
      "    0.00538783]\n",
      "  [ 0.04735554  0.01250775  0.00816926 ...  0.02311977 -0.02051692\n",
      "    0.00538783]\n",
      "  [ 0.04735554  0.01250775  0.00816926 ...  0.02311977 -0.02051692\n",
      "    0.00538783]]]\n",
      "\n",
      "Embedded sentence shape: (1, 55, 128)\n"
     ]
    }
   ],
   "source": [
    "print(f'Sentence before vectorization:\\n{target_sentence}\\n')\n",
    "vectorized_sentences = text_vectorizer([target_sentence])\n",
    "print(f'Sentences after vectorization (before embedding):\\n {vectorized_sentences}\\n')\n",
    "embedded_sentence = token_embed(vectorized_sentences)\n",
    "print(f\"Sentence after embedding:\\n {embedded_sentence}\\n\")\n",
    "print(f\"Embedded sentence shape: {embedded_sentence.shape}\")"
   ]
  },
  {
   "cell_type": "markdown",
   "id": "928dba60-1a0d-46be-b091-e98fc920f208",
   "metadata": {},
   "source": [
    "## Creating Dataset (makingsure our data loads as fast as possible)"
   ]
  },
  {
   "cell_type": "code",
   "execution_count": 37,
   "id": "8bd12058-2955-48ff-bb07-1da346ff264d",
   "metadata": {},
   "outputs": [],
   "source": [
    "# Turn our data into Tensorflow Datasets\n",
    "# Turn our data into TensorFlow Datasets\n",
    "train_dataset = tf.data.Dataset.from_tensor_slices((train_sentences, train_labels_one_hot))\n",
    "valid_dataset = tf.data.Dataset.from_tensor_slices((val_sentences, val_labels_one_hot))\n",
    "test_dataset = tf.data.Dataset.from_tensor_slices((test_sentences, test_labels_one_hot))\n",
    "\n",
    "# look for cnn notes after model_3\n"
   ]
  },
  {
   "cell_type": "code",
   "execution_count": 38,
   "id": "c72e8071-b6d4-4932-8679-d34ce81a37b6",
   "metadata": {},
   "outputs": [
    {
     "data": {
      "text/plain": [
       "((180040, 5), array([0., 0., 0., 1., 0.]))"
      ]
     },
     "execution_count": 38,
     "metadata": {},
     "output_type": "execute_result"
    }
   ],
   "source": [
    "train_labels_one_hot.shape, train_labels_one_hot[00]"
   ]
  },
  {
   "cell_type": "code",
   "execution_count": 39,
   "id": "c315cdcd-b6a2-441f-add2-900e1f467e34",
   "metadata": {},
   "outputs": [],
   "source": [
    "# Take the TensorSliceDataset's and turn them into prefetched dataset\n",
    "# Take the TensorSliceDataset's and turn them into prefetched batches\n",
    "train_dataset = train_dataset.batch(32).prefetch(tf.data.AUTOTUNE)\n",
    "valid_dataset = valid_dataset.batch(32).prefetch(tf.data.AUTOTUNE)\n",
    "test_dataset = test_dataset.batch(32).prefetch(tf.data.AUTOTUNE)"
   ]
  },
  {
   "cell_type": "markdown",
   "id": "16e5ef7d-bb39-45aa-99f9-2773e125721c",
   "metadata": {},
   "source": [
    "## Model 1: Conv1D with token embeddings "
   ]
  },
  {
   "cell_type": "code",
   "execution_count": 40,
   "id": "50a04acf-fa6d-4d75-bd72-5e4800951f96",
   "metadata": {},
   "outputs": [],
   "source": [
    "# Create 1D conv models to process sequences\n",
    "# Create 1D convolutional model to process sequences\n",
    "inputs = layers.Input(shape=(1,), dtype=tf.string)\n",
    "text_vectors = text_vectorizer(inputs) # vectorize text inputs\n",
    "token_embeddings = token_embed(text_vectors) # create embedding\n",
    "x = layers.Conv1D(64, kernel_size=5, padding=\"same\", activation=\"relu\")(token_embeddings)\n",
    "x = layers.GlobalAveragePooling1D()(x) # condense the output of our feature vector\n",
    "outputs = layers.Dense(num_classes, activation=\"softmax\")(x)\n",
    "model_1 = tf.keras.Model(inputs, outputs)\n",
    "\n",
    "# Compile\n",
    "model_1.compile(loss=\"categorical_crossentropy\", # if your labels are integer form (not one hot) use sparse_categorical_crossentropy\n",
    "                optimizer=tf.keras.optimizers.Adam(),\n",
    "                metrics=[\"accuracy\"])\n"
   ]
  },
  {
   "cell_type": "code",
   "execution_count": 41,
   "id": "9c330121-ab5d-474a-b9a9-2cac29569189",
   "metadata": {},
   "outputs": [
    {
     "name": "stdout",
     "output_type": "stream",
     "text": [
      "Model: \"model\"\n",
      "_________________________________________________________________\n",
      " Layer (type)                Output Shape              Param #   \n",
      "=================================================================\n",
      " input_1 (InputLayer)        [(None, 1)]               0         \n",
      "                                                                 \n",
      " text_vectorization (TextVe  (None, 55)                0         \n",
      " ctorization)                                                    \n",
      "                                                                 \n",
      " token_embedding (Embedding  (None, 55, 128)           8299648   \n",
      " )                                                               \n",
      "                                                                 \n",
      " conv1d (Conv1D)             (None, 55, 64)            41024     \n",
      "                                                                 \n",
      " global_average_pooling1d (  (None, 64)                0         \n",
      " GlobalAveragePooling1D)                                         \n",
      "                                                                 \n",
      " dense (Dense)               (None, 5)                 325       \n",
      "                                                                 \n",
      "=================================================================\n",
      "Total params: 8340997 (31.82 MB)\n",
      "Trainable params: 8340997 (31.82 MB)\n",
      "Non-trainable params: 0 (0.00 Byte)\n",
      "_________________________________________________________________\n"
     ]
    }
   ],
   "source": [
    "model_1.summary()"
   ]
  },
  {
   "cell_type": "code",
   "execution_count": 42,
   "id": "469db80e-bb06-48e2-a094-6f89103e5439",
   "metadata": {},
   "outputs": [
    {
     "data": {
      "text/plain": [
       "5627"
      ]
     },
     "execution_count": 42,
     "metadata": {},
     "output_type": "execute_result"
    }
   ],
   "source": [
    "len(train_dataset)"
   ]
  },
  {
   "cell_type": "code",
   "execution_count": 43,
   "id": "b1f94d60-4d13-4f92-8821-fc3e545ef69a",
   "metadata": {},
   "outputs": [
    {
     "data": {
      "text/plain": [
       "180064"
      ]
     },
     "execution_count": 43,
     "metadata": {},
     "output_type": "execute_result"
    }
   ],
   "source": [
    "5627*32"
   ]
  },
  {
   "cell_type": "markdown",
   "id": "3ebaa738-633e-4461-b63b-6dfd7c42fcb8",
   "metadata": {},
   "source": [
    "**len of train_dataset is 5627 ie 5627 batches are there each batch 32 samples so total samples = 180064**"
   ]
  },
  {
   "cell_type": "code",
   "execution_count": 44,
   "id": "019a9c92-57c5-4b8d-a58e-ef7acd09cbf1",
   "metadata": {},
   "outputs": [
    {
     "name": "stdout",
     "output_type": "stream",
     "text": [
      "Epoch 1/3\n",
      "WARNING:tensorflow:From C:\\Users\\jagam\\anaconda3\\envs\\tensorflow\\lib\\site-packages\\keras\\src\\engine\\base_layer_utils.py:384: The name tf.executing_eagerly_outside_functions is deprecated. Please use tf.compat.v1.executing_eagerly_outside_functions instead.\n",
      "\n",
      "562/562 [==============================] - 26s 44ms/step - loss: 0.9177 - accuracy: 0.6382 - val_loss: 0.6932 - val_accuracy: 0.7410\n",
      "Epoch 2/3\n",
      "562/562 [==============================] - 24s 43ms/step - loss: 0.6614 - accuracy: 0.7557 - val_loss: 0.6362 - val_accuracy: 0.7713\n",
      "Epoch 3/3\n",
      "562/562 [==============================] - 24s 44ms/step - loss: 0.6185 - accuracy: 0.7730 - val_loss: 0.5971 - val_accuracy: 0.7879\n"
     ]
    }
   ],
   "source": [
    "# Fit the model\n",
    "model_1_history = model_1.fit(train_dataset,\n",
    "                              steps_per_epoch=int(0.1 * len(train_dataset)), # only fit on 10% of batches for faster training time\n",
    "                              epochs=3,\n",
    "                              validation_data=valid_dataset,\n",
    "                              validation_steps=int(0.1 * len(valid_dataset))) # only validate on 10% of batches"
   ]
  },
  {
   "cell_type": "code",
   "execution_count": 45,
   "id": "7e8dac37-a119-41f9-a07a-38c9cbf1e7a6",
   "metadata": {},
   "outputs": [
    {
     "name": "stdout",
     "output_type": "stream",
     "text": [
      "945/945 [==============================] - 3s 3ms/step - loss: 0.5987 - accuracy: 0.7856\n"
     ]
    },
    {
     "data": {
      "text/plain": [
       "[0.5987193584442139, 0.7856481075286865]"
      ]
     },
     "execution_count": 45,
     "metadata": {},
     "output_type": "execute_result"
    }
   ],
   "source": [
    "model_1.evaluate(valid_dataset)"
   ]
  },
  {
   "cell_type": "code",
   "execution_count": 46,
   "id": "acb8b55d-a979-46c3-bf52-f0c3a8892371",
   "metadata": {},
   "outputs": [
    {
     "name": "stdout",
     "output_type": "stream",
     "text": [
      "945/945 [==============================] - 3s 4ms/step\n"
     ]
    },
    {
     "data": {
      "text/plain": [
       "(array([[4.1376504e-01, 2.0510539e-01, 7.2999693e-02, 2.7311081e-01,\n",
       "         3.5019044e-02],\n",
       "        [4.0798542e-01, 3.1224644e-01, 1.1952949e-02, 2.5888026e-01,\n",
       "         8.9348601e-03],\n",
       "        [1.4364055e-01, 6.8301945e-03, 2.7354446e-03, 8.4675628e-01,\n",
       "         3.7529669e-05],\n",
       "        ...,\n",
       "        [6.1311225e-06, 7.6569122e-04, 9.3247957e-04, 3.4252514e-06,\n",
       "         9.9829215e-01],\n",
       "        [4.7692280e-02, 4.7399661e-01, 8.8652395e-02, 6.1487194e-02,\n",
       "         3.2817158e-01],\n",
       "        [1.9060270e-01, 6.7114550e-01, 4.0844195e-02, 5.6170497e-02,\n",
       "         4.1237090e-02]], dtype=float32),\n",
       " (30212, 5))"
      ]
     },
     "execution_count": 46,
     "metadata": {},
     "output_type": "execute_result"
    }
   ],
   "source": [
    "# make predictions (our model predicts prediction probabilities for each classes)\n",
    "model_1_pred_probs = model_1.predict(valid_dataset)\n",
    "model_1_pred_probs, model_1_pred_probs.shape"
   ]
  },
  {
   "cell_type": "code",
   "execution_count": 47,
   "id": "7c633c19-f0ed-4c9a-8211-d76181bdc246",
   "metadata": {},
   "outputs": [
    {
     "data": {
      "text/plain": [
       "<tf.Tensor: shape=(30212,), dtype=int64, numpy=array([0, 0, 3, ..., 4, 1, 1], dtype=int64)>"
      ]
     },
     "execution_count": 47,
     "metadata": {},
     "output_type": "execute_result"
    }
   ],
   "source": [
    "# Convert the pred probs to classes\n",
    "model_1_preds = tf.argmax(model_1_pred_probs, axis=1)\n",
    "model_1_preds"
   ]
  },
  {
   "cell_type": "code",
   "execution_count": 48,
   "id": "2438fe5c-d4de-497c-82df-c041c9a1ba3e",
   "metadata": {},
   "outputs": [
    {
     "data": {
      "text/plain": [
       "{'accuracy': 78.56480868529061,\n",
       " 'precision': 0.7830998450914325,\n",
       " 'recall': 0.7856480868529061,\n",
       " 'f1': 0.783175272404438}"
      ]
     },
     "execution_count": 48,
     "metadata": {},
     "output_type": "execute_result"
    }
   ],
   "source": [
    "# Calculate model_1 results\n",
    "model_1_results = calculate_results(y_true=val_labels_encoded,\n",
    "                                  y_pred = model_1_preds)\n",
    "model_1_results"
   ]
  },
  {
   "cell_type": "markdown",
   "id": "26beba71-30c1-4047-93c7-726b3c360c9b",
   "metadata": {},
   "source": [
    "## Model 2: Feature extraction\n",
    "The paper was realeased in 2016 and used Glove embedding but we will stick to USE pretrained embeddings"
   ]
  },
  {
   "cell_type": "code",
   "execution_count": 49,
   "id": "39eb75b8-9ffa-4db3-9e07-88aae23a5e46",
   "metadata": {},
   "outputs": [
    {
     "name": "stdout",
     "output_type": "stream",
     "text": [
      "WARNING:tensorflow:From C:\\Users\\jagam\\anaconda3\\envs\\tensorflow\\lib\\site-packages\\tensorflow_estimator\\python\\estimator\\util.py:74: The name tf.train.SessionRunHook is deprecated. Please use tf.estimator.SessionRunHook instead.\n",
      "\n",
      "WARNING:tensorflow:From C:\\Users\\jagam\\anaconda3\\envs\\tensorflow\\lib\\site-packages\\tensorflow_hub\\saved_model_module.py:40: The name tf.saved_model.constants.LEGACY_INIT_OP_KEY is deprecated. Please use tf.compat.v1.saved_model.constants.LEGACY_INIT_OP_KEY instead.\n",
      "\n",
      "WARNING:tensorflow:From C:\\Users\\jagam\\anaconda3\\envs\\tensorflow\\lib\\site-packages\\tensorflow_hub\\resolver.py:120: The name tf.gfile.MakeDirs is deprecated. Please use tf.io.gfile.makedirs instead.\n",
      "\n"
     ]
    },
    {
     "name": "stderr",
     "output_type": "stream",
     "text": [
      "WARNING:tensorflow:From C:\\Users\\jagam\\anaconda3\\envs\\tensorflow\\lib\\site-packages\\tensorflow_hub\\resolver.py:120: The name tf.gfile.MakeDirs is deprecated. Please use tf.io.gfile.makedirs instead.\n",
      "\n"
     ]
    },
    {
     "name": "stdout",
     "output_type": "stream",
     "text": [
      "WARNING:tensorflow:From C:\\Users\\jagam\\anaconda3\\envs\\tensorflow\\lib\\site-packages\\tensorflow_hub\\module_v2.py:120: The name tf.saved_model.load_v2 is deprecated. Please use tf.compat.v2.saved_model.load instead.\n",
      "\n"
     ]
    },
    {
     "name": "stderr",
     "output_type": "stream",
     "text": [
      "WARNING:tensorflow:From C:\\Users\\jagam\\anaconda3\\envs\\tensorflow\\lib\\site-packages\\tensorflow_hub\\module_v2.py:120: The name tf.saved_model.load_v2 is deprecated. Please use tf.compat.v2.saved_model.load instead.\n",
      "\n"
     ]
    }
   ],
   "source": [
    "#Due to having to download a relatively large model (~916MB), the cell below may take a little while to run.\n",
    "# Download pretrained TensorFlow Hub USE\n",
    "import tensorflow_hub as hub\n",
    "tf_hub_embedding_layer = hub.KerasLayer(\"https://tfhub.dev/google/universal-sentence-encoder/4\",\n",
    "                                        trainable=False,\n",
    "                                        name=\"universal_sentence_encoder\")\n",
    "     "
   ]
  },
  {
   "cell_type": "code",
   "execution_count": 50,
   "id": "b180ab2d-1038-43ba-94ae-2d89420f945d",
   "metadata": {
    "scrolled": true
   },
   "outputs": [
    {
     "name": "stdout",
     "output_type": "stream",
     "text": [
      "Random sentence:\n",
      " it has the potential to capitalise on the benefits of bedsharing to enhance infant wellbeing while also safeguarding them from harm .\n",
      "Sentence after embedding:\n",
      "[[ 3.42593975e-02 -5.51087409e-02 -3.71178016e-02 -6.47219941e-02\n",
      "  -7.58041590e-02  6.16514497e-02 -1.03035122e-02 -7.75112305e-03\n",
      "  -3.42790373e-02 -3.29352655e-02  2.63002329e-02  4.00407575e-02\n",
      "  -5.47983572e-02  5.16964532e-02  4.04347554e-02  1.10379960e-02\n",
      "  -1.01433501e-01 -7.10717738e-02 -3.70598808e-02  3.90551426e-02\n",
      "   1.06999101e-02  2.49858461e-02  7.26607591e-02  5.77638373e-02\n",
      "   3.29228980e-03  4.00341563e-02 -2.88002715e-02  6.39342368e-02\n",
      "   3.44296219e-03  3.60973217e-02 -4.58404794e-02  9.61862430e-02\n",
      "   4.55786772e-02 -5.22266608e-03 -2.40211748e-02 -7.75492266e-02\n",
      "   7.48423219e-04 -3.62938568e-02 -5.63724563e-02 -7.67241567e-02\n",
      "   5.76595664e-02 -1.40574202e-02 -3.70360352e-02  2.86954474e-02\n",
      "  -6.36961125e-03 -2.85089500e-02  6.96456656e-02 -3.77069674e-02\n",
      "  -3.15286890e-02  2.20021680e-02 -9.89985280e-03 -5.12715913e-02\n",
      "   1.95479821e-02  3.92765738e-02  2.88798343e-02  3.54507901e-02\n",
      "  -1.30129671e-02  1.84999183e-02  8.10325146e-03  1.11797489e-02\n",
      "  -1.74084324e-02 -6.68247491e-02 -3.26243304e-02 -6.16431870e-02\n",
      "   3.18555944e-02  4.46511607e-04  5.37536256e-02  2.32652966e-02\n",
      "  -5.58771044e-02  6.03331774e-02 -3.40951905e-02  3.21784690e-02\n",
      "   5.71921729e-02 -7.03419074e-02  3.94091271e-02  8.71971399e-02\n",
      "  -7.73366168e-02 -6.33309036e-02 -5.70670590e-02  7.79402852e-02\n",
      "   7.34057603e-03 -2.20438242e-02  5.25512658e-02 -3.48502491e-03\n",
      "   1.38112269e-02 -1.37196025e-02  4.83075939e-02  4.57981154e-02\n",
      "   4.83470485e-02 -1.27087217e-02  5.45431823e-02  4.42387201e-02\n",
      "  -5.93188815e-02  8.52176547e-02 -2.34246776e-02 -1.77075993e-02\n",
      "  -2.26808228e-02 -6.59764707e-02  2.79022623e-02 -4.25725877e-02\n",
      "  -2.66741924e-02 -2.67898641e-03  8.07248950e-02  1.50889996e-02\n",
      "   2.24013068e-02 -8.78130794e-02  2.48707235e-02 -2.14810818e-02\n",
      "   1.10759335e-02 -6.64652288e-02 -1.60308462e-02  1.79550238e-02\n",
      "   1.59271210e-02 -4.66432469e-03 -2.11915728e-02  2.38865688e-02\n",
      "  -9.05483670e-04  1.94710456e-02  6.44850582e-02 -6.78985789e-02\n",
      "  -6.86564669e-03  3.41966152e-02  1.84992086e-02 -1.56565346e-02\n",
      "   1.35872839e-02 -9.42110643e-03 -4.89145555e-02  3.39187384e-02\n",
      "  -2.84999679e-03  4.50383946e-02  2.10513491e-02  7.10662082e-02\n",
      "   3.74234393e-02  2.89428495e-02 -2.62736529e-02  6.23734370e-02\n",
      "   6.76653460e-02  4.84738797e-02  4.53342460e-02 -1.11862617e-02\n",
      "   8.93099084e-02 -3.47966440e-02  3.11831534e-02 -1.19403936e-02\n",
      "  -6.34496063e-02 -1.68322015e-03  5.03102019e-02 -7.26634637e-02\n",
      "   2.16942746e-02  6.74659833e-02  2.46025622e-02  2.07327530e-02\n",
      "  -1.98027641e-02 -2.17375346e-02 -3.39268073e-02  7.41992965e-02\n",
      "   7.41491793e-03  7.74625912e-02  6.83724210e-02  5.10389879e-02\n",
      "   4.61710542e-02  1.52961239e-02 -3.71651649e-02 -3.28504257e-02\n",
      "  -8.23641866e-02 -4.03578468e-02  1.64638739e-03 -6.99288025e-02\n",
      "  -4.19065095e-02  9.69072524e-03 -4.52042483e-02 -7.94383362e-02\n",
      "   5.62525205e-02  1.47686282e-03 -3.07352357e-02  3.10991090e-02\n",
      "  -2.05299631e-02 -3.27922367e-02 -2.69857962e-02  5.07227667e-02\n",
      "   1.59932394e-02  5.93406856e-02  3.16295028e-02 -2.57869232e-02\n",
      "   1.01440288e-02 -2.59385388e-02 -2.49225050e-02 -3.62446420e-02\n",
      "   1.95462555e-02 -7.36673474e-02 -2.00444534e-02 -2.62399688e-02\n",
      "  -4.55820896e-02 -1.74810656e-03  2.12080088e-02  3.25848088e-02\n",
      "   2.53182761e-02  2.22544800e-02  6.20176829e-02 -5.18451333e-02\n",
      "   3.34326341e-03  3.50473449e-02 -5.15323877e-02  3.74294119e-03\n",
      "  -9.82000828e-02  2.96168569e-02 -7.67603442e-02  8.20149481e-02\n",
      "   2.53382027e-02  1.97284725e-02  1.96536649e-02 -6.47387505e-02\n",
      "   4.69555482e-02  2.00627595e-02  3.26023065e-02  7.41246268e-02\n",
      "  -5.65576032e-02 -3.00795529e-02 -8.02445319e-03 -1.15771964e-02\n",
      "   3.55435386e-02  5.58352210e-02 -2.96843704e-02  1.51309408e-02\n",
      "   1.85904782e-02 -2.22449880e-02 -6.88816607e-02 -2.38687154e-02\n",
      "   4.20550592e-02  4.75633964e-02  4.30489518e-02  7.41095245e-02\n",
      "   5.55516221e-02  2.28980035e-02 -1.49243101e-02 -1.15923863e-02\n",
      "  -3.77515480e-02  8.21839049e-02  3.90317105e-02  1.88275184e-02\n",
      "  -1.93700641e-02  4.62448411e-03 -5.63165359e-02 -1.09727029e-02\n",
      "  -5.37605695e-02 -5.71324937e-02  3.15058306e-02  7.32893497e-02\n",
      "   1.51760476e-02 -6.78145364e-02  1.07220942e-02 -5.31990314e-03\n",
      "  -5.91291673e-03  2.93281930e-03 -3.30032632e-02 -6.25093654e-02\n",
      "  -4.66696061e-02  5.29672354e-02  6.14642464e-02  1.44251138e-02\n",
      "  -7.92233944e-02 -6.59898594e-02 -3.94182578e-02 -3.23427804e-02\n",
      "   4.27178387e-03  2.35873256e-02  2.27866182e-03 -7.08021149e-02\n",
      "   3.75230722e-02 -2.69880965e-02  5.83580621e-02 -7.90537149e-02\n",
      "   2.69600917e-02  7.39814863e-02  2.59604696e-02 -4.51699384e-02\n",
      "   1.02077179e-01  2.37468686e-02 -5.65737598e-02  6.98937997e-02\n",
      "   7.21705928e-02 -9.11637098e-02 -3.00345682e-02 -1.93825513e-02\n",
      "  -2.08106800e-03  1.53280962e-02 -5.33712953e-02 -3.89654264e-02\n",
      "  -1.53566496e-02  3.51285972e-02  3.03348061e-02  8.56900811e-02\n",
      "   1.05477711e-02 -4.17331867e-02  1.01513870e-01  3.40615921e-02\n",
      "  -2.21482459e-02  2.44616568e-02 -6.27923906e-02  5.53210713e-02\n",
      "  -2.67799012e-02 -4.53854799e-02  1.08715277e-02  4.53971699e-02\n",
      "   2.17500813e-02 -4.39140797e-02 -5.64593486e-02 -7.57230725e-03\n",
      "   3.40851508e-02 -5.46364225e-02 -3.70277315e-02  1.02135297e-02\n",
      "  -2.71367598e-02 -3.35610621e-02 -1.55775510e-02  1.07395379e-02\n",
      "  -1.20320665e-02 -5.85830212e-02  4.46971320e-02  3.74734541e-03\n",
      "   1.68061201e-02 -4.06465568e-02 -7.61779472e-02  5.00765406e-02\n",
      "   2.11272780e-02  9.68013108e-02 -4.43537310e-02 -1.29736280e-02\n",
      "   4.30348143e-02  3.42189074e-02  1.08860235e-03 -4.01798710e-02\n",
      "   2.45423093e-02  3.06570139e-02  4.80180494e-02  6.96586967e-02\n",
      "  -4.06353809e-02 -5.19349538e-02  1.59671698e-02 -5.49215972e-02\n",
      "  -4.55868579e-02  4.77500148e-02  8.49749614e-03 -2.22255290e-02\n",
      "   7.32097216e-03 -5.11519574e-02 -4.21232320e-02 -1.67515490e-03\n",
      "  -3.31710279e-02 -3.64335291e-02  6.26336550e-03 -1.71194691e-02\n",
      "   1.56333949e-02 -2.80440133e-02 -3.96213718e-02  5.89802675e-02\n",
      "  -7.22445026e-02  6.91052079e-02 -5.44927642e-02 -3.69919054e-02\n",
      "  -5.96613660e-02 -2.47509265e-03 -5.19320630e-02 -5.78234554e-04\n",
      "  -6.74614981e-02  6.95786476e-02  4.07414511e-02  2.98840962e-02\n",
      "  -8.85201469e-02  6.78011104e-02  3.54654528e-02 -1.86024550e-02\n",
      "  -1.54225039e-04 -4.71999310e-02 -7.11966157e-02 -8.47367570e-02\n",
      "  -4.30252366e-02 -7.37945503e-03  2.40288321e-02  4.90451464e-03\n",
      "  -3.89471203e-02  8.56781192e-03  7.13786334e-02 -2.87769921e-02\n",
      "  -6.87042624e-02  1.81465633e-02  4.33999114e-02 -4.22558822e-02\n",
      "   8.06670859e-02  3.93284298e-02 -4.04255912e-02  7.15350136e-02\n",
      "  -5.74471802e-02 -4.52360176e-02  2.07711551e-02  4.17516008e-02\n",
      "   2.36042794e-02 -4.50184941e-02 -5.96406236e-02  7.84241557e-02\n",
      "  -2.61907950e-02  3.79328579e-02  2.01885700e-02  3.02244406e-02\n",
      "  -6.02019653e-02  5.64161316e-02 -1.30450046e-02  5.03609069e-02\n",
      "  -5.75595535e-03  2.07426231e-02  1.95253380e-02 -1.23505399e-03\n",
      "   3.09866183e-02 -3.55246961e-02 -2.17449013e-03  8.69819447e-02\n",
      "  -7.86180142e-03  2.37090010e-02 -1.20122274e-02 -2.82314848e-02\n",
      "  -6.86084677e-04 -1.48275085e-02  4.46528159e-02 -5.36857406e-03\n",
      "   2.51276251e-02 -7.50055164e-02  2.73478739e-02 -3.08758840e-02\n",
      "  -1.16018606e-02  5.96565790e-02  2.35506222e-02 -7.13802204e-02\n",
      "   2.96963882e-02 -4.97504286e-02  1.40398759e-02  4.85033095e-02\n",
      "   4.88063544e-02  1.80436019e-03  5.46130650e-02  4.11776975e-02\n",
      "  -2.69342754e-02 -3.19790877e-02 -5.29921129e-02 -7.69155622e-02\n",
      "   4.86606658e-02  8.10662378e-03  3.51344161e-02 -4.19829898e-02\n",
      "  -1.92185808e-02  1.68220438e-02 -3.11845578e-02 -1.74549315e-02\n",
      "   2.62162392e-03  4.20656092e-02  5.79191633e-02  6.88666254e-02\n",
      "   3.54437530e-02  4.09146165e-03 -6.50008470e-02 -1.01571414e-03\n",
      "  -6.30214512e-02  7.37258792e-02 -7.67343212e-03  5.36897108e-02\n",
      "   3.17245238e-02  3.39469239e-02 -6.95969090e-02  8.13531969e-03\n",
      "  -1.62777640e-02  4.21105064e-02 -3.76889342e-03  3.91424112e-02\n",
      "  -3.02655585e-02 -2.32086964e-02 -3.74842472e-02  1.14251152e-02\n",
      "  -1.72141213e-02 -3.39792073e-02  8.32804441e-02  5.18744849e-02\n",
      "  -5.50063327e-03  1.53603097e-02  2.87503959e-03 -1.14515116e-02\n",
      "  -5.59696965e-02  3.37471329e-02 -4.32661250e-02 -1.69173423e-02\n",
      "  -2.91573945e-02  3.67266908e-02 -4.95383926e-02  2.08790042e-02\n",
      "   7.29224086e-02 -1.55904345e-04 -4.69542816e-02  4.46599685e-02\n",
      "   9.62530226e-02 -4.28978540e-02 -8.40880875e-06 -1.63540505e-02\n",
      "   2.18271893e-02 -1.42110195e-02 -5.56399971e-02 -7.06032589e-02\n",
      "  -5.85629791e-02 -8.73348191e-02  2.38171741e-02 -1.83399096e-02\n",
      "   4.49286178e-02  2.29984540e-02 -9.25798528e-03 -8.74717161e-03]]\n",
      "\n",
      "Length of sentence embedding: 512\n"
     ]
    }
   ],
   "source": [
    "# Test our pretrained embedding on a random sentence\n",
    "random_train_sentence = random.choice(train_sentences)\n",
    "print(f\"Random sentence:\\n {random_train_sentence}\")\n",
    "use_embedded_sentence = tf_hub_embedding_layer([random_train_sentence])\n",
    "print(f\"Sentence after embedding:\\n{use_embedded_sentence}\\n\")\n",
    "print(f\"Length of sentence embedding: {len(use_embedded_sentence[0])}\")"
   ]
  },
  {
   "cell_type": "markdown",
   "id": "1b2f7a78-f340-4ad5-8eb3-af22e0db29db",
   "metadata": {},
   "source": [
    "The Pretrained embedding USE returns a 512 D vector"
   ]
  },
  {
   "cell_type": "markdown",
   "id": "736cfa79-6773-4d2c-acac-fe786b4532a2",
   "metadata": {},
   "source": [
    "### Building and fitting an NLP feature extraction model using pretrained embeddings"
   ]
  },
  {
   "cell_type": "code",
   "execution_count": 51,
   "id": "c67f21a1-d442-48d7-9204-81a21961e554",
   "metadata": {},
   "outputs": [],
   "source": [
    "# Define feature extraction model using TF Hub layer\n",
    "inputs = layers.Input(shape=[], dtype=tf.string)\n",
    "pretrained_embedding = tf_hub_embedding_layer(inputs) # tokenize text and create embedding of each sequence (512 long vector)\n",
    "x = layers.Dense(128,activation='relu')(pretrained_embedding)\n",
    "outputs = layers.Dense(5, activation='softmax')(x) # create the output layer\n",
    "model_2 = tf.keras.Model(inputs=inputs,\n",
    "                        outputs=outputs,\n",
    "                        name='model_2_USE_feature_extractor')\n",
    "# Compile the model\n",
    "model_2.compile(loss='categorical_crossentropy',\n",
    "               optimizer=tf.keras.optimizers.Adam(),\n",
    "               metrics=['accuracy'])"
   ]
  },
  {
   "cell_type": "code",
   "execution_count": 52,
   "id": "ad8cd3d6-48d7-4b53-b27a-ee10124321ac",
   "metadata": {},
   "outputs": [
    {
     "name": "stdout",
     "output_type": "stream",
     "text": [
      "Model: \"model_2_USE_feature_extractor\"\n",
      "_________________________________________________________________\n",
      " Layer (type)                Output Shape              Param #   \n",
      "=================================================================\n",
      " input_2 (InputLayer)        [(None,)]                 0         \n",
      "                                                                 \n",
      " universal_sentence_encoder  (None, 512)               256797824 \n",
      "  (KerasLayer)                                                   \n",
      "                                                                 \n",
      " dense_1 (Dense)             (None, 128)               65664     \n",
      "                                                                 \n",
      " dense_2 (Dense)             (None, 5)                 645       \n",
      "                                                                 \n",
      "=================================================================\n",
      "Total params: 256864133 (979.86 MB)\n",
      "Trainable params: 66309 (259.02 KB)\n",
      "Non-trainable params: 256797824 (979.61 MB)\n",
      "_________________________________________________________________\n"
     ]
    }
   ],
   "source": [
    "model_2.summary()"
   ]
  },
  {
   "cell_type": "code",
   "execution_count": 53,
   "id": "fbcbded8-6a40-4261-9518-09cd1c82077c",
   "metadata": {},
   "outputs": [
    {
     "name": "stdout",
     "output_type": "stream",
     "text": [
      "Epoch 1/3\n",
      "562/562 [==============================] - 10s 13ms/step - loss: 0.9156 - accuracy: 0.6490 - val_loss: 0.7976 - val_accuracy: 0.6908\n",
      "Epoch 2/3\n",
      "562/562 [==============================] - 7s 13ms/step - loss: 0.7693 - accuracy: 0.7017 - val_loss: 0.7566 - val_accuracy: 0.7051\n",
      "Epoch 3/3\n",
      "562/562 [==============================] - 7s 12ms/step - loss: 0.7525 - accuracy: 0.7116 - val_loss: 0.7398 - val_accuracy: 0.7134\n"
     ]
    }
   ],
   "source": [
    "# Fit model_2 to the data\n",
    "history_model_2 = model_2.fit(train_dataset,\n",
    "                             epochs=3,\n",
    "                             steps_per_epoch=int(0.1 * len(train_dataset)),\n",
    "                             validation_data=valid_dataset,\n",
    "                             validation_steps=int(0.1 * len(valid_dataset)))"
   ]
  },
  {
   "cell_type": "code",
   "execution_count": 54,
   "id": "7f30b94d-2644-4d9d-a03f-4dd7720120b2",
   "metadata": {},
   "outputs": [
    {
     "name": "stdout",
     "output_type": "stream",
     "text": [
      "945/945 [==============================] - 10s 11ms/step - loss: 0.7406 - accuracy: 0.7137\n"
     ]
    },
    {
     "data": {
      "text/plain": [
       "[0.740583598613739, 0.7136568427085876]"
      ]
     },
     "execution_count": 54,
     "metadata": {},
     "output_type": "execute_result"
    }
   ],
   "source": [
    "# Evaluate on the whole dataset\n",
    "model_2.evaluate(valid_dataset)"
   ]
  },
  {
   "cell_type": "code",
   "execution_count": 55,
   "id": "d5539b18-b3d6-45b0-92bc-eb7585a42d20",
   "metadata": {},
   "outputs": [
    {
     "name": "stdout",
     "output_type": "stream",
     "text": [
      "945/945 [==============================] - 10s 10ms/step\n"
     ]
    },
    {
     "data": {
      "text/plain": [
       "array([[4.1695049e-01, 3.7898844e-01, 2.7622154e-03, 1.9249237e-01,\n",
       "        8.8064354e-03],\n",
       "       [3.7048730e-01, 4.7007507e-01, 4.6756500e-03, 1.5124092e-01,\n",
       "        3.5211109e-03],\n",
       "       [2.0809311e-01, 1.5518411e-01, 1.9344753e-02, 5.7454473e-01,\n",
       "        4.2833261e-02],\n",
       "       ...,\n",
       "       [1.4999417e-03, 4.9043265e-03, 5.3366724e-02, 9.0297189e-04,\n",
       "        9.3932605e-01],\n",
       "       [3.8075787e-03, 4.4834841e-02, 2.1317433e-01, 1.5026418e-03,\n",
       "        7.3668057e-01],\n",
       "       [1.5743439e-01, 2.7450958e-01, 4.8668361e-01, 5.9547322e-03,\n",
       "        7.5417720e-02]], dtype=float32)"
      ]
     },
     "execution_count": 55,
     "metadata": {},
     "output_type": "execute_result"
    }
   ],
   "source": [
    "# make predictions with feature extraction model\n",
    "model_2_pred_probs = model_2.predict(valid_dataset)\n",
    "model_2_pred_probs"
   ]
  },
  {
   "cell_type": "code",
   "execution_count": 56,
   "id": "a805bec3-33f7-4f78-8ff7-852574e1b31d",
   "metadata": {},
   "outputs": [
    {
     "data": {
      "text/plain": [
       "<tf.Tensor: shape=(30212,), dtype=int64, numpy=array([0, 1, 3, ..., 4, 4, 2], dtype=int64)>"
      ]
     },
     "execution_count": 56,
     "metadata": {},
     "output_type": "execute_result"
    }
   ],
   "source": [
    "# Convert the prediction probabilities found with feature extraction models to labels\n",
    "model_2_preds = tf.argmax(model_2_pred_probs, axis=1)\n",
    "model_2_preds"
   ]
  },
  {
   "cell_type": "code",
   "execution_count": 57,
   "id": "3d4181f2-6b12-4eda-a268-e89913b0cd3e",
   "metadata": {},
   "outputs": [
    {
     "data": {
      "text/plain": [
       "{'accuracy': 71.36568251026083,\n",
       " 'precision': 0.7139777686062299,\n",
       " 'recall': 0.7136568251026082,\n",
       " 'f1': 0.7106154201257303}"
      ]
     },
     "execution_count": 57,
     "metadata": {},
     "output_type": "execute_result"
    }
   ],
   "source": [
    "# Calculate results from TF Hub pretrained embedding results on val set\n",
    "model_2_results = calculate_results(y_true=val_labels_encoded,\n",
    "                                   y_pred= model_2_preds)\n",
    "model_2_results"
   ]
  },
  {
   "cell_type": "markdown",
   "id": "d0acfd92-bd75-4f1d-9643-e84a97c4a845",
   "metadata": {},
   "source": [
    "### Model 3: Conv1D with character embedding"
   ]
  },
  {
   "cell_type": "markdown",
   "id": "cbf41b4f-3b9f-4185-8871-1e15bbb6a18c",
   "metadata": {},
   "source": [
    "In the paper they used combination of token and character level embedding\n",
    "Previously we've used token embeddings but we need to do similar steps for characters if we want to use char-level embeddings"
   ]
  },
  {
   "cell_type": "markdown",
   "id": "7764acf2-e0d9-4d5d-a5ff-77e19d224b86",
   "metadata": {},
   "source": [
    "#### Creating a character level embedding"
   ]
  },
  {
   "cell_type": "code",
   "execution_count": 58,
   "id": "e2dfa751-ad13-4b09-9c65-687925a3ca36",
   "metadata": {},
   "outputs": [
    {
     "data": {
      "text/plain": [
       "['to investigate the efficacy of @ weeks of daily low-dose oral prednisolone in improving pain , mobility , and systemic low-grade inflammation in the short term and whether the effect would be sustained at @ weeks in older adults with moderate to severe knee osteoarthritis ( oa ) .',\n",
       " 'a total of @ patients with primary knee oa were randomized @:@ ; @ received @ mg/day of prednisolone and @ received placebo for @ weeks .',\n",
       " 'outcome measures included pain reduction and improvement in function scores and systemic inflammation markers .',\n",
       " 'pain was assessed using the visual analog pain scale ( @-@ mm ) .',\n",
       " 'secondary outcome measures included the western ontario and mcmaster universities osteoarthritis index scores , patient global assessment ( pga ) of the severity of knee oa , and @-min walk distance ( @mwd ) .']"
      ]
     },
     "execution_count": 58,
     "metadata": {},
     "output_type": "execute_result"
    }
   ],
   "source": [
    "train_sentences[:5]"
   ]
  },
  {
   "cell_type": "code",
   "execution_count": 59,
   "id": "e22b29a5-869f-43ac-8ebc-d924d4dca578",
   "metadata": {},
   "outputs": [],
   "source": [
    "# Make func to split sentence into characters\n",
    "def split_chars(text):\n",
    "    return \" \".join(list(text))"
   ]
  },
  {
   "cell_type": "code",
   "execution_count": 60,
   "id": "54df30eb-c038-4e5f-92c9-7e7829849055",
   "metadata": {},
   "outputs": [
    {
     "data": {
      "text/plain": [
       "'i t   h a s   t h e   p o t e n t i a l   t o   c a p i t a l i s e   o n   t h e   b e n e f i t s   o f   b e d s h a r i n g   t o   e n h a n c e   i n f a n t   w e l l b e i n g   w h i l e   a l s o   s a f e g u a r d i n g   t h e m   f r o m   h a r m   .'"
      ]
     },
     "execution_count": 60,
     "metadata": {},
     "output_type": "execute_result"
    }
   ],
   "source": [
    "split_chars(random_train_sentence)"
   ]
  },
  {
   "cell_type": "code",
   "execution_count": 61,
   "id": "21d88eb9-7121-4f61-b658-9ce9f9a9295a",
   "metadata": {},
   "outputs": [],
   "source": [
    "train_chars = [split_chars(sentence) for sentence in train_sentences]\n",
    "val_chars = [split_chars(sentence) for sentence in val_sentences]\n",
    "test_chars = [split_chars(sentence) for sentence in test_sentences]"
   ]
  },
  {
   "cell_type": "code",
   "execution_count": 62,
   "id": "25d95381-cf4b-4112-aadd-23013957d6a8",
   "metadata": {},
   "outputs": [],
   "source": [
    "# what is the average char length in each sentence\n",
    "char_lens = [len(sentence) for sentence in train_sentences]\n",
    "mean_char_len = np.mean(char_lens)"
   ]
  },
  {
   "cell_type": "code",
   "execution_count": 63,
   "id": "653e0476-d2aa-4bea-b358-c4a32a8f3b39",
   "metadata": {},
   "outputs": [
    {
     "data": {
      "text/plain": [
       "149.3662574983337"
      ]
     },
     "execution_count": 63,
     "metadata": {},
     "output_type": "execute_result"
    }
   ],
   "source": [
    "mean_char_len"
   ]
  },
  {
   "cell_type": "code",
   "execution_count": 64,
   "id": "d48d012b-5ead-43f4-918d-b94b8cc4776e",
   "metadata": {},
   "outputs": [
    {
     "data": {
      "image/png": "[encoded data removed]",
      "text/plain": [
       "<Figure size 640x480 with 1 Axes>"
      ]
     },
     "metadata": {},
     "output_type": "display_data"
    }
   ],
   "source": [
    "# Check the distribution of our sequences at character-level\n",
    "import matplotlib.pyplot as plt\n",
    "plt.hist(char_lens, bins=7);"
   ]
  },
  {
   "cell_type": "code",
   "execution_count": 65,
   "id": "676cd720-7b57-46b5-ad2a-ce6ccee38f82",
   "metadata": {},
   "outputs": [
    {
     "data": {
      "text/plain": [
       "290"
      ]
     },
     "execution_count": 65,
     "metadata": {},
     "output_type": "execute_result"
    }
   ],
   "source": [
    "# Find what char len covers 95% of sequences\n",
    "output_seq_char_len = int(np.percentile(char_lens, 95))\n",
    "output_seq_char_len"
   ]
  },
  {
   "cell_type": "code",
   "execution_count": 66,
   "id": "604a1a43-b7be-48d8-8ee6-27fe71e1e5d3",
   "metadata": {},
   "outputs": [],
   "source": [
    "# Get all the keyboard characters\n",
    "import string\n",
    "alphabet = string.ascii_lowercase + string.digits + string.punctuation"
   ]
  },
  {
   "cell_type": "code",
   "execution_count": 67,
   "id": "a2a78e54-d554-43c9-9795-f3ffda3efca5",
   "metadata": {},
   "outputs": [],
   "source": [
    "# Create char-level token vectorizer instance\n",
    "NUM_CHAR_TOKENS = len(alphabet) + 2 # add 2 for space and OOV (OOV = out of vocab, '[UNK]')"
   ]
  },
  {
   "cell_type": "code",
   "execution_count": 68,
   "id": "40217ea4-3db6-46db-8d93-62181c0e9214",
   "metadata": {},
   "outputs": [],
   "source": [
    "# Creating an instance of char-level Token Vectorizer instance\n",
    "char_vectorizer = TextVectorization(max_tokens=NUM_CHAR_TOKENS,\n",
    "                                   output_sequence_length=output_seq_char_len,\n",
    "                                   name='char_vectorizer')\n",
    "                                   #standardize='lower_and_strip_punctuation')"
   ]
  },
  {
   "cell_type": "code",
   "execution_count": 69,
   "id": "c5de71eb-f4f7-4628-9bef-112789ccab83",
   "metadata": {},
   "outputs": [],
   "source": [
    "# Adapt character vectorizer to training character\n",
    "char_vectorizer.adapt(train_chars)"
   ]
  },
  {
   "cell_type": "code",
   "execution_count": 70,
   "id": "6bc08866-f6da-4b1d-8421-88ea471caa2f",
   "metadata": {},
   "outputs": [
    {
     "name": "stdout",
     "output_type": "stream",
     "text": [
      "Number of different characters in the character vocab: 28\n",
      "5 most common characters: ['', '[UNK]', 'e', 't', 'i']\n",
      "5 least common characters: k\n"
     ]
    }
   ],
   "source": [
    "# Check character vocab stats\n",
    "char_vocab = char_vectorizer.get_vocabulary()\n",
    "print(f\"Number of different characters in the character vocab: {len(char_vocab)}\")\n",
    "print(f\"5 most common characters: {char_vocab[:5]}\")\n",
    "print(f\"5 least common characters: {char_vocab[-5]}\")"
   ]
  },
  {
   "cell_type": "code",
   "execution_count": 71,
   "id": "dfcebd7d-07f6-4fde-b767-a03010b1c05d",
   "metadata": {},
   "outputs": [
    {
     "name": "stdout",
     "output_type": "stream",
     "text": [
      "Charified text:\n",
      " t h e   t o o t h - l e v e l   p r e v e n t i v e   f r a c t i o n s   w e r e   @   %   f o r   r e s i n - b a s e d   s e a l a n t s   a n d   @   %   f o r   g l a s s   i o n o m e r   s e a l a n t s   ,   r e s p e c t i v e l y   .\n",
      "Length of random_train_chars: 103\n",
      "\\Vectorized chars:\n",
      " [[ 3 13  2  3  7  7  3 13 12  2 21  2 12 14  8  2 21  2  6  3  4 21  2 17\n",
      "   8  5 11  3  4  7  6  9 20  2  8  2 17  7  8  8  2  9  4  6 22  5  9  2\n",
      "  10  9  2  5 12  5  6  3  9  5  6 10 17  7  8 18 12  5  9  9  4  7  6  7\n",
      "  15  2  8  9  2  5 12  5  6  3  9  8  2  9 14  2 11  3  4 21  2 12 19  0\n",
      "   0  0  0  0  0  0  0  0  0  0  0  0  0  0  0  0  0  0  0  0  0  0  0  0\n",
      "   0  0  0  0  0  0  0  0  0  0  0  0  0  0  0  0  0  0  0  0  0  0  0  0\n",
      "   0  0  0  0  0  0  0  0  0  0  0  0  0  0  0  0  0  0  0  0  0  0  0  0\n",
      "   0  0  0  0  0  0  0  0  0  0  0  0  0  0  0  0  0  0  0  0  0  0  0  0\n",
      "   0  0  0  0  0  0  0  0  0  0  0  0  0  0  0  0  0  0  0  0  0  0  0  0\n",
      "   0  0  0  0  0  0  0  0  0  0  0  0  0  0  0  0  0  0  0  0  0  0  0  0\n",
      "   0  0  0  0  0  0  0  0  0  0  0  0  0  0  0  0  0  0  0  0  0  0  0  0\n",
      "   0  0  0  0  0  0  0  0  0  0  0  0  0  0  0  0  0  0  0  0  0  0  0  0\n",
      "   0  0]]\n",
      "\n",
      "Length of vectorized chars: 290\n"
     ]
    }
   ],
   "source": [
    "# Test out character vectorizer\n",
    "random_train_chars = random.choice(train_chars)\n",
    "print(f\"Charified text:\\n {random_train_chars}\")\n",
    "print(f\"Length of random_train_chars: {len(random_train_chars.split())}\")\n",
    "vectorized_chars = char_vectorizer([random_train_chars])\n",
    "print(f\"\\Vectorized chars:\\n {vectorized_chars}\")\n",
    "print(f\"\\nLength of vectorized chars: {len(vectorized_chars[0])}\")"
   ]
  },
  {
   "cell_type": "code",
   "execution_count": 72,
   "id": "af4f265d-d5ba-4400-9de4-6562b37842aa",
   "metadata": {},
   "outputs": [],
   "source": [
    "# Create char embedding layer\n",
    "char_embed = layers.Embedding(input_dim=len(char_vocab),\n",
    "                                 output_dim=25,\n",
    "                                 mask_zero=True,\n",
    "                                 name='char_embed')"
   ]
  },
  {
   "cell_type": "code",
   "execution_count": 73,
   "id": "dfa69e6a-eaac-4401-8ed5-e295d1eadb44",
   "metadata": {},
   "outputs": [
    {
     "name": "stdout",
     "output_type": "stream",
     "text": [
      "Charified text:\n",
      " t h e   t o o t h - l e v e l   p r e v e n t i v e   f r a c t i o n s   w e r e   @   %   f o r   r e s i n - b a s e d   s e a l a n t s   a n d   @   %   f o r   g l a s s   i o n o m e r   s e a l a n t s   ,   r e s p e c t i v e l y   .\n",
      "\n",
      "Embedded chars. (after vectorization and embedding):\n",
      " [[[-0.02672203 -0.03833648  0.01773443 ...  0.01796975  0.00878048\n",
      "    0.04154021]\n",
      "  [-0.0143043  -0.03240974  0.01402949 ...  0.02736396  0.00275927\n",
      "   -0.03543136]\n",
      "  [ 0.01293211 -0.02236266 -0.01995236 ... -0.03936685  0.00763793\n",
      "    0.02290546]\n",
      "  ...\n",
      "  [ 0.02972746  0.01380005  0.0364312  ...  0.03456831  0.04467264\n",
      "   -0.00267931]\n",
      "  [ 0.02972746  0.01380005  0.0364312  ...  0.03456831  0.04467264\n",
      "   -0.00267931]\n",
      "  [ 0.02972746  0.01380005  0.0364312  ...  0.03456831  0.04467264\n",
      "   -0.00267931]]]\n",
      "Character embedding shape: (1, 290, 25)\n"
     ]
    }
   ],
   "source": [
    "# Check our character embedding layer\n",
    "print(f\"Charified text:\\n {random_train_chars}\\n\")\n",
    "char_embed_example = char_embed(char_vectorizer([random_train_chars]))\n",
    "print(f'Embedded chars. (after vectorization and embedding):\\n {char_embed_example}')\n",
    "print(f\"Character embedding shape: {char_embed_example.shape}\")"
   ]
  },
  {
   "cell_type": "markdown",
   "id": "9f618dee-7169-46d8-8d33-eafe36c66865",
   "metadata": {},
   "source": [
    "## Building a Conv1D to fit character embeddings"
   ]
  },
  {
   "cell_type": "code",
   "execution_count": 74,
   "id": "ebabf9d9-f506-48c3-89ea-100bc1378145",
   "metadata": {},
   "outputs": [],
   "source": [
    "# Make conv1D on chars only\n",
    "inputs = layers.Input(shape=(1,), dtype='string')\n",
    "char_vectors = char_vectorizer(inputs)\n",
    "char_embeddings = char_embed(char_vectors)\n",
    "x = layers.Conv1D(64, kernel_size=5, padding='same', activation='relu')(char_embeddings)\n",
    "x = layers.GlobalMaxPooling1D()(x)\n",
    "outputs = layers.Dense(num_classes, activation='softmax')(x)\n",
    "model_3 = tf.keras.Model(inputs=inputs,\n",
    "                        outputs=outputs,\n",
    "                        name='model_3_conv1d_char_embeddings')\n",
    "# Compile\n",
    "model_3.compile(loss='categorical_crossentropy',\n",
    "                optimizer=tf.keras.optimizers.Adam(),\n",
    "                metrics=['accuracy'])"
   ]
  },
  {
   "cell_type": "code",
   "execution_count": 75,
   "id": "dd1df592-382f-4d0e-81bf-8c7b9c3a2c70",
   "metadata": {},
   "outputs": [
    {
     "name": "stdout",
     "output_type": "stream",
     "text": [
      "Model: \"model_3_conv1d_char_embeddings\"\n",
      "_________________________________________________________________\n",
      " Layer (type)                Output Shape              Param #   \n",
      "=================================================================\n",
      " input_3 (InputLayer)        [(None, 1)]               0         \n",
      "                                                                 \n",
      " char_vectorizer (TextVecto  (None, 290)               0         \n",
      " rization)                                                       \n",
      "                                                                 \n",
      " char_embed (Embedding)      (None, 290, 25)           700       \n",
      "                                                                 \n",
      " conv1d_1 (Conv1D)           (None, 290, 64)           8064      \n",
      "                                                                 \n",
      " global_max_pooling1d (Glob  (None, 64)                0         \n",
      " alMaxPooling1D)                                                 \n",
      "                                                                 \n",
      " dense_3 (Dense)             (None, 5)                 325       \n",
      "                                                                 \n",
      "=================================================================\n",
      "Total params: 9089 (35.50 KB)\n",
      "Trainable params: 9089 (35.50 KB)\n",
      "Non-trainable params: 0 (0.00 Byte)\n",
      "_________________________________________________________________\n"
     ]
    }
   ],
   "source": [
    "model_3.summary()"
   ]
  },
  {
   "cell_type": "code",
   "execution_count": 76,
   "id": "ce5b69e0-231d-42c2-82b6-c7bf4e63d522",
   "metadata": {},
   "outputs": [],
   "source": [
    "# Create char level dataset\n",
    "train_char_dataset = tf.data.Dataset.from_tensor_slices((train_chars, train_labels_one_hot)).batch(32).prefetch(tf.data.AUTOTUNE)\n",
    "val_char_dataset = tf.data.Dataset.from_tensor_slices((val_chars, val_labels_one_hot)).batch(32).prefetch(tf.data.AUTOTUNE)\n",
    "test_char_dataset = tf.data.Dataset.from_tensor_slices((test_chars, test_labels_one_hot)).batch(32).prefetch(tf.data.AUTOTUNE)\n"
   ]
  },
  {
   "cell_type": "code",
   "execution_count": 77,
   "id": "ecdc8217-cf23-4f86-8ced-3d48cf233e44",
   "metadata": {},
   "outputs": [
    {
     "name": "stdout",
     "output_type": "stream",
     "text": [
      "Epoch 1/3\n",
      "562/562 [==============================] - 5s 8ms/step - loss: 1.2829 - accuracy: 0.4641 - val_loss: 1.0628 - val_accuracy: 0.5698\n",
      "Epoch 2/3\n",
      "562/562 [==============================] - 6s 10ms/step - loss: 1.0239 - accuracy: 0.5889 - val_loss: 0.9541 - val_accuracy: 0.6193\n",
      "Epoch 3/3\n",
      "562/562 [==============================] - 7s 12ms/step - loss: 0.9349 - accuracy: 0.6325 - val_loss: 0.8772 - val_accuracy: 0.6562\n"
     ]
    }
   ],
   "source": [
    "# Fitting our model on characters only\n",
    "model_3_history = model_3.fit(train_char_dataset,\n",
    "                             steps_per_epoch=int(0.1*len(train_char_dataset)),\n",
    "                             epochs=3,\n",
    "                             validation_data=val_char_dataset,\n",
    "                             validation_steps=int(0.1*len(val_char_dataset)))"
   ]
  },
  {
   "cell_type": "code",
   "execution_count": 78,
   "id": "c981f575-5a78-49f6-b6ac-3b745f157bbe",
   "metadata": {},
   "outputs": [
    {
     "name": "stdout",
     "output_type": "stream",
     "text": [
      "945/945 [==============================] - 4s 4ms/step\n"
     ]
    },
    {
     "data": {
      "text/plain": [
       "array([[0.1160192 , 0.35935453, 0.25079334, 0.20704494, 0.06678806],\n",
       "       [0.14780438, 0.5376288 , 0.03806181, 0.2288146 , 0.04769036],\n",
       "       [0.11456744, 0.18360738, 0.19107902, 0.4815006 , 0.02924554],\n",
       "       ...,\n",
       "       [0.01933391, 0.028146  , 0.3232793 , 0.02594461, 0.6032962 ],\n",
       "       [0.07111228, 0.1353534 , 0.27285162, 0.09199135, 0.42869133],\n",
       "       [0.3681193 , 0.549797  , 0.01802167, 0.05657058, 0.00749146]],\n",
       "      dtype=float32)"
      ]
     },
     "execution_count": 78,
     "metadata": {},
     "output_type": "execute_result"
    }
   ],
   "source": [
    "# Make predictions with character model only\n",
    "model_3_pred_probs = model_3.predict(val_char_dataset)\n",
    "model_3_pred_probs"
   ]
  },
  {
   "cell_type": "code",
   "execution_count": 79,
   "id": "e4b4a2ca-a774-4c7c-9956-7f4059003877",
   "metadata": {},
   "outputs": [
    {
     "data": {
      "text/plain": [
       "<tf.Tensor: shape=(30212,), dtype=int64, numpy=array([1, 1, 3, ..., 4, 4, 1], dtype=int64)>"
      ]
     },
     "execution_count": 79,
     "metadata": {},
     "output_type": "execute_result"
    }
   ],
   "source": [
    "# convert prection probablties to class labels\n",
    "model_3_preds = tf.argmax(model_3_pred_probs, axis=1)\n",
    "model_3_preds"
   ]
  },
  {
   "cell_type": "code",
   "execution_count": 80,
   "id": "121a7414-2ef7-494e-8904-a78e8d73d722",
   "metadata": {
    "scrolled": true
   },
   "outputs": [
    {
     "data": {
      "text/plain": [
       "{'accuracy': 65.18601880047663,\n",
       " 'precision': 0.6412272714613001,\n",
       " 'recall': 0.6518601880047663,\n",
       " 'f1': 0.6401780499848663}"
      ]
     },
     "execution_count": 80,
     "metadata": {},
     "output_type": "execute_result"
    }
   ],
   "source": [
    "model_3_results = calculate_results(y_true=val_labels_encoded,\n",
    "                                   y_pred=model_3_preds)\n",
    "model_3_results"
   ]
  },
  {
   "cell_type": "markdown",
   "id": "c41038bb-680f-4717-bf05-1e095ecddc35",
   "metadata": {},
   "source": [
    "## Model 4: Combining pretrained token embeddings + characters embeddings(hybrid embedding layer) "
   ]
  },
  {
   "cell_type": "code",
   "execution_count": 81,
   "id": "6c82ca9a-5c77-44e2-a52a-1672b6518482",
   "metadata": {},
   "outputs": [],
   "source": [
    "# 1. Setup token input/models\n",
    "token_inputs = layers.Input(shape=[], dtype=tf.string, name=\"token_input\")\n",
    "token_embeddings = tf_hub_embedding_layer(token_inputs)\n",
    "token_output = layers.Dense(128, activation=\"relu\")(token_embeddings)\n",
    "token_model = tf.keras.Model(inputs=token_inputs,\n",
    "                             outputs=token_output)"
   ]
  },
  {
   "cell_type": "code",
   "execution_count": 82,
   "id": "abeedd8b-424f-439b-8b58-ece1bb8b87ec",
   "metadata": {},
   "outputs": [],
   "source": [
    "# 2. Setup char inputs/model\n",
    "char_inputs = layers.Input(shape=(1,), dtype=tf.string, name=\"char_input\")\n",
    "char_vectors = char_vectorizer(char_inputs)\n",
    "char_embeddings = char_embed(char_vectors)\n",
    "char_bi_lstm = layers.Bidirectional(layers.LSTM(25))(char_embeddings) # bi-LSTM shown in Figure 1 of https://arxiv.org/pdf/1612.05251.pdf\n",
    "char_model = tf.keras.Model(inputs=char_inputs,\n",
    "                            outputs=char_bi_lstm)"
   ]
  },
  {
   "cell_type": "code",
   "execution_count": 83,
   "id": "12c7293d-2bb0-423c-9617-313a5b93dfdf",
   "metadata": {},
   "outputs": [],
   "source": [
    "# 3. Concatenate token and char embedding models\n",
    "token_char_concat = layers.Concatenate(name=\"token_char_hybrid\")([token_model.output, \n",
    "                                                                  char_model.output])"
   ]
  },
  {
   "cell_type": "code",
   "execution_count": 84,
   "id": "cdae4488-3bcf-46ae-a0d6-3a4fbf8f1528",
   "metadata": {},
   "outputs": [],
   "source": [
    "# 4. Building output layer on the top of 3\n",
    "combined_dropout = layers.Dropout(0.5)(token_char_concat)\n",
    "combined_dense = layers.Dense(200, activation=\"relu\")(combined_dropout) # slightly different to Figure 1 due to different shapes of token/char embedding layers\n",
    "final_dropout = layers.Dropout(0.5)(combined_dense)\n",
    "output_layer = layers.Dense(num_classes, activation=\"softmax\")(final_dropout)"
   ]
  },
  {
   "cell_type": "code",
   "execution_count": 85,
   "id": "b9ded869-5078-41cb-a1a4-8be3da02dd98",
   "metadata": {},
   "outputs": [],
   "source": [
    "# 5. Construct model with char and token inputs\n",
    "model_4 = tf.keras.Model(inputs=[token_model.input, char_model.input],\n",
    "                         outputs=output_layer,\n",
    "                         name=\"model_4_token_and_char_embeddings\")"
   ]
  },
  {
   "cell_type": "code",
   "execution_count": 86,
   "id": "f0ad0a93-1c3d-4a06-81c3-7ff5dc080beb",
   "metadata": {},
   "outputs": [
    {
     "name": "stdout",
     "output_type": "stream",
     "text": [
      "Model: \"model_4_token_and_char_embeddings\"\n",
      "__________________________________________________________________________________________________\n",
      " Layer (type)                Output Shape                 Param #   Connected to                  \n",
      "==================================================================================================\n",
      " char_input (InputLayer)     [(None, 1)]                  0         []                            \n",
      "                                                                                                  \n",
      " token_input (InputLayer)    [(None,)]                    0         []                            \n",
      "                                                                                                  \n",
      " char_vectorizer (TextVecto  (None, 290)                  0         ['char_input[0][0]']          \n",
      " rization)                                                                                        \n",
      "                                                                                                  \n",
      " universal_sentence_encoder  (None, 512)                  2567978   ['token_input[0][0]']         \n",
      "  (KerasLayer)                                            24                                      \n",
      "                                                                                                  \n",
      " char_embed (Embedding)      (None, 290, 25)              700       ['char_vectorizer[1][0]']     \n",
      "                                                                                                  \n",
      " dense_4 (Dense)             (None, 128)                  65664     ['universal_sentence_encoder[1\n",
      "                                                                    ][0]']                        \n",
      "                                                                                                  \n",
      " bidirectional (Bidirection  (None, 50)                   10200     ['char_embed[1][0]']          \n",
      " al)                                                                                              \n",
      "                                                                                                  \n",
      " token_char_hybrid (Concate  (None, 178)                  0         ['dense_4[0][0]',             \n",
      " nate)                                                               'bidirectional[0][0]']       \n",
      "                                                                                                  \n",
      " dropout (Dropout)           (None, 178)                  0         ['token_char_hybrid[0][0]']   \n",
      "                                                                                                  \n",
      " dense_5 (Dense)             (None, 200)                  35800     ['dropout[0][0]']             \n",
      "                                                                                                  \n",
      " dropout_1 (Dropout)         (None, 200)                  0         ['dense_5[0][0]']             \n",
      "                                                                                                  \n",
      " dense_6 (Dense)             (None, 5)                    1005      ['dropout_1[0][0]']           \n",
      "                                                                                                  \n",
      "==================================================================================================\n",
      "Total params: 256911193 (980.04 MB)\n",
      "Trainable params: 113369 (442.85 KB)\n",
      "Non-trainable params: 256797824 (979.61 MB)\n",
      "__________________________________________________________________________________________________\n"
     ]
    }
   ],
   "source": [
    "model_4.summary()"
   ]
  },
  {
   "cell_type": "code",
   "execution_count": 87,
   "id": "0ddeda2f-ed4d-407b-be8b-ce6ca99f3d4e",
   "metadata": {},
   "outputs": [
    {
     "data": {
      "image/png": "[encoded data removed]",
      "text/plain": [
       "<IPython.core.display.Image object>"
      ]
     },
     "execution_count": 87,
     "metadata": {},
     "output_type": "execute_result"
    }
   ],
   "source": [
    "# Plotting the hybrid model\n",
    "from tensorflow.keras.utils import plot_model\n",
    "plot_model(model_4)"
   ]
  },
  {
   "cell_type": "code",
   "execution_count": 88,
   "id": "5e5b6c24-ec65-4c1a-8b96-ac410c6b2f79",
   "metadata": {},
   "outputs": [],
   "source": [
    "# Compile token char model\n",
    "model_4.compile(loss=\"categorical_crossentropy\",\n",
    "                optimizer=tf.keras.optimizers.Adam(), # section 4.2 of https://arxiv.org/pdf/1612.05251.pdf mentions using SGD but we'll stick with Adam\n",
    "                metrics=[\"accuracy\"])"
   ]
  },
  {
   "cell_type": "code",
   "execution_count": 89,
   "id": "e736fd1d-d77b-49b1-b28a-bbd4888b7fc1",
   "metadata": {},
   "outputs": [],
   "source": [
    "# Combine chars and tokens into a dataset\n",
    "train_char_token_data = tf.data.Dataset.from_tensor_slices((train_sentences, train_chars)) # make data\n",
    "train_char_token_labels = tf.data.Dataset.from_tensor_slices(train_labels_one_hot) # make labels\n",
    "train_char_token_dataset = tf.data.Dataset.zip((train_char_token_data, train_char_token_labels)) # combine data and labels\n",
    "\n",
    "# Prefetch and Batch the data\n",
    "train_char_token_dataset = train_char_token_dataset.batch(32).prefetch(tf.data.AUTOTUNE)"
   ]
  },
  {
   "cell_type": "code",
   "execution_count": 90,
   "id": "3259d3d3-d34a-4e5d-8953-75b9021af822",
   "metadata": {},
   "outputs": [],
   "source": [
    "# Repeat the above steps for our validation data\n",
    "val_char_token_data = tf.data.Dataset.from_tensor_slices((val_sentences, val_chars))\n",
    "val_char_token_labels = tf.data.Dataset.from_tensor_slices(val_labels_one_hot)\n",
    "val_char_token_dataset = tf.data.Dataset.zip((val_char_token_data, val_char_token_labels))\n",
    "val_char_token_dataset = val_char_token_dataset.batch(32).prefetch(tf.data.AUTOTUNE)\n"
   ]
  },
  {
   "cell_type": "code",
   "execution_count": 91,
   "id": "25519b5d-9e3c-45db-8aa1-6c2a648b76db",
   "metadata": {},
   "outputs": [
    {
     "data": {
      "text/plain": [
       "(<_PrefetchDataset element_spec=((TensorSpec(shape=(None,), dtype=tf.string, name=None), TensorSpec(shape=(None,), dtype=tf.string, name=None)), TensorSpec(shape=(None, 5), dtype=tf.float64, name=None))>,\n",
       " <_PrefetchDataset element_spec=((TensorSpec(shape=(None,), dtype=tf.string, name=None), TensorSpec(shape=(None,), dtype=tf.string, name=None)), TensorSpec(shape=(None, 5), dtype=tf.float64, name=None))>)"
      ]
     },
     "execution_count": 91,
     "metadata": {},
     "output_type": "execute_result"
    }
   ],
   "source": [
    "# Check out our training char and token embedding dataset\n",
    "train_char_token_dataset, val_char_token_dataset"
   ]
  },
  {
   "cell_type": "markdown",
   "id": "f6dc4e98-1810-4f95-8a13-b93453607bdd",
   "metadata": {},
   "source": [
    "### Fitting a model on token and character-level sequences"
   ]
  },
  {
   "cell_type": "code",
   "execution_count": 92,
   "id": "2ba8f98c-6f4f-4f7f-9238-a5e511154745",
   "metadata": {},
   "outputs": [
    {
     "name": "stdout",
     "output_type": "stream",
     "text": [
      "Epoch 1/3\n",
      "562/562 [==============================] - 67s 106ms/step - loss: 0.9747 - accuracy: 0.6140 - val_loss: 0.7794 - val_accuracy: 0.7028\n",
      "Epoch 2/3\n",
      "562/562 [==============================] - 59s 105ms/step - loss: 0.7915 - accuracy: 0.6967 - val_loss: 0.7136 - val_accuracy: 0.7334\n",
      "Epoch 3/3\n",
      "562/562 [==============================] - 3150s 6s/step - loss: 0.7680 - accuracy: 0.7040 - val_loss: 0.6881 - val_accuracy: 0.7407\n"
     ]
    }
   ],
   "source": [
    "# Fit the model on tokens and chars\n",
    "model_4_history = model_4.fit(train_char_token_dataset, # train on dataset of token and characters\n",
    "                              steps_per_epoch=int(0.1 * len(train_char_token_dataset)),\n",
    "                              epochs=3,\n",
    "                              validation_data=val_char_token_dataset,\n",
    "                              validation_steps=int(0.1 * len(val_char_token_dataset)))"
   ]
  },
  {
   "cell_type": "code",
   "execution_count": 93,
   "id": "703d317c-9dfc-439f-a015-14c7c2649927",
   "metadata": {},
   "outputs": [
    {
     "name": "stdout",
     "output_type": "stream",
     "text": [
      "945/945 [==============================] - 24s 25ms/step - loss: 0.6923 - accuracy: 0.7359\n"
     ]
    },
    {
     "data": {
      "text/plain": [
       "[0.692298948764801, 0.7359327673912048]"
      ]
     },
     "execution_count": 93,
     "metadata": {},
     "output_type": "execute_result"
    }
   ],
   "source": [
    "model_4.evaluate(val_char_token_dataset)"
   ]
  },
  {
   "cell_type": "code",
   "execution_count": 94,
   "id": "bb791da0-d3cc-48ad-a77b-64bbbd8eabc8",
   "metadata": {},
   "outputs": [
    {
     "name": "stdout",
     "output_type": "stream",
     "text": [
      "945/945 [==============================] - 26s 24ms/step\n"
     ]
    }
   ],
   "source": [
    "model_4_pred_probs = model_4.predict(val_char_token_dataset)"
   ]
  },
  {
   "cell_type": "code",
   "execution_count": 95,
   "id": "844ef657-599a-4071-93d9-64effbc95027",
   "metadata": {},
   "outputs": [
    {
     "data": {
      "text/plain": [
       "array([[4.25676435e-01, 3.64466667e-01, 3.31394956e-03, 1.99385554e-01,\n",
       "        7.15742400e-03],\n",
       "       [3.13218087e-01, 5.15503407e-01, 2.74937390e-03, 1.66254029e-01,\n",
       "        2.27510603e-03],\n",
       "       [3.10099602e-01, 1.13289386e-01, 3.88605222e-02, 5.13586879e-01,\n",
       "        2.41636336e-02],\n",
       "       ...,\n",
       "       [5.56730549e-04, 8.77550151e-03, 6.96921647e-02, 3.75246251e-04,\n",
       "        9.20600235e-01],\n",
       "       [6.12661336e-03, 5.96662909e-02, 2.25346670e-01, 3.57203954e-03,\n",
       "        7.05288351e-01],\n",
       "       [4.38960820e-01, 3.43242943e-01, 1.34833798e-01, 3.76354866e-02,\n",
       "        4.53270152e-02]], dtype=float32)"
      ]
     },
     "execution_count": 95,
     "metadata": {},
     "output_type": "execute_result"
    }
   ],
   "source": [
    "model_4_pred_probs"
   ]
  },
  {
   "cell_type": "code",
   "execution_count": 96,
   "id": "ca66b3d0-a0dc-4ed9-82bd-eac449db7f88",
   "metadata": {},
   "outputs": [
    {
     "data": {
      "text/plain": [
       "<tf.Tensor: shape=(30212,), dtype=int64, numpy=array([0, 1, 3, ..., 4, 4, 0], dtype=int64)>"
      ]
     },
     "execution_count": 96,
     "metadata": {},
     "output_type": "execute_result"
    }
   ],
   "source": [
    "# Getting the class hving max prob for each instance\n",
    "model_4_preds = tf.argmax(model_4_pred_probs, axis=1)\n",
    "model_4_preds"
   ]
  },
  {
   "cell_type": "code",
   "execution_count": 97,
   "id": "888d4f25-469f-4b77-b832-e525891b3a19",
   "metadata": {},
   "outputs": [
    {
     "data": {
      "text/plain": [
       "{'accuracy': 73.59327419568383,\n",
       " 'precision': 0.7373750325762168,\n",
       " 'recall': 0.7359327419568383,\n",
       " 'f1': 0.7334857944272961}"
      ]
     },
     "execution_count": 97,
     "metadata": {},
     "output_type": "execute_result"
    }
   ],
   "source": [
    "# get results of token-char-hybrid-model\n",
    "model_4_results = calculate_results(y_true=val_labels_encoded,\n",
    "                                   y_pred=model_4_preds)\n",
    "model_4_results"
   ]
  },
  {
   "cell_type": "code",
   "execution_count": 98,
   "id": "32be3f36-7965-416d-8626-0ad940cbd9ef",
   "metadata": {},
   "outputs": [
    {
     "data": {
      "text/plain": [
       "{'accuracy': 78.56480868529061,\n",
       " 'precision': 0.7830998450914325,\n",
       " 'recall': 0.7856480868529061,\n",
       " 'f1': 0.783175272404438}"
      ]
     },
     "execution_count": 98,
     "metadata": {},
     "output_type": "execute_result"
    }
   ],
   "source": [
    "model_1_results"
   ]
  },
  {
   "cell_type": "markdown",
   "id": "a8b950c6-3f11-4c6a-b5a9-5db5cb85325d",
   "metadata": {},
   "source": [
    "**Even after comparing the a pretrained token embedding and a char embeddings our model's performance is not better than the model_1**"
   ]
  },
  {
   "cell_type": "markdown",
   "id": "7230e3c0-798a-4abb-9a4d-6eafc5b9a8a9",
   "metadata": {},
   "source": [
    "**We will use feature engineering to create the positional embeddings**"
   ]
  },
  {
   "cell_type": "markdown",
   "id": "2bf3201a-575b-4603-a1eb-57299e298858",
   "metadata": {},
   "source": [
    "## Model 5 : Transfer Learning with pretrained token embeddings + character embeddings + positional embeddings"
   ]
  },
  {
   "cell_type": "code",
   "execution_count": 99,
   "id": "6cc8ca91-689d-4419-9288-ed53fff7390f",
   "metadata": {},
   "outputs": [
    {
     "data": {
      "text/html": [
       "<div>\n",
       "<style scoped>\n",
       "    .dataframe tbody tr th:only-of-type {\n",
       "        vertical-align: middle;\n",
       "    }\n",
       "\n",
       "    .dataframe tbody tr th {\n",
       "        vertical-align: top;\n",
       "    }\n",
       "\n",
       "    .dataframe thead th {\n",
       "        text-align: right;\n",
       "    }\n",
       "</style>\n",
       "<table border=\"1\" class=\"dataframe\">\n",
       "  <thead>\n",
       "    <tr style=\"text-align: right;\">\n",
       "      <th></th>\n",
       "      <th>target</th>\n",
       "      <th>text</th>\n",
       "      <th>line_number</th>\n",
       "      <th>total_lines</th>\n",
       "    </tr>\n",
       "  </thead>\n",
       "  <tbody>\n",
       "    <tr>\n",
       "      <th>0</th>\n",
       "      <td>OBJECTIVE</td>\n",
       "      <td>to investigate the efficacy of @ weeks of dail...</td>\n",
       "      <td>0</td>\n",
       "      <td>11</td>\n",
       "    </tr>\n",
       "    <tr>\n",
       "      <th>1</th>\n",
       "      <td>METHODS</td>\n",
       "      <td>a total of @ patients with primary knee oa wer...</td>\n",
       "      <td>1</td>\n",
       "      <td>11</td>\n",
       "    </tr>\n",
       "    <tr>\n",
       "      <th>2</th>\n",
       "      <td>METHODS</td>\n",
       "      <td>outcome measures included pain reduction and i...</td>\n",
       "      <td>2</td>\n",
       "      <td>11</td>\n",
       "    </tr>\n",
       "    <tr>\n",
       "      <th>3</th>\n",
       "      <td>METHODS</td>\n",
       "      <td>pain was assessed using the visual analog pain...</td>\n",
       "      <td>3</td>\n",
       "      <td>11</td>\n",
       "    </tr>\n",
       "    <tr>\n",
       "      <th>4</th>\n",
       "      <td>METHODS</td>\n",
       "      <td>secondary outcome measures included the wester...</td>\n",
       "      <td>4</td>\n",
       "      <td>11</td>\n",
       "    </tr>\n",
       "  </tbody>\n",
       "</table>\n",
       "</div>"
      ],
      "text/plain": [
       "      target                                               text  line_number  \\\n",
       "0  OBJECTIVE  to investigate the efficacy of @ weeks of dail...            0   \n",
       "1    METHODS  a total of @ patients with primary knee oa wer...            1   \n",
       "2    METHODS  outcome measures included pain reduction and i...            2   \n",
       "3    METHODS  pain was assessed using the visual analog pain...            3   \n",
       "4    METHODS  secondary outcome measures included the wester...            4   \n",
       "\n",
       "   total_lines  \n",
       "0           11  \n",
       "1           11  \n",
       "2           11  \n",
       "3           11  \n",
       "4           11  "
      ]
     },
     "execution_count": 99,
     "metadata": {},
     "output_type": "execute_result"
    }
   ],
   "source": [
    "train_df.head()"
   ]
  },
  {
   "cell_type": "markdown",
   "id": "1f935216-d921-487e-a1c1-2272e0f9de9e",
   "metadata": {},
   "source": [
    "🚩**Any engineered feature used to tarin a model needs to be present in the test data** "
   ]
  },
  {
   "cell_type": "markdown",
   "id": "81b5d0fb-421a-4769-8b41-1e4f02302b07",
   "metadata": {},
   "source": [
    "### Create positional embeddings "
   ]
  },
  {
   "cell_type": "code",
   "execution_count": 100,
   "id": "e9c91f27-c99d-431e-b797-5335ae739386",
   "metadata": {},
   "outputs": [
    {
     "data": {
      "text/plain": [
       "line_number\n",
       "0     15000\n",
       "1     15000\n",
       "2     15000\n",
       "3     15000\n",
       "4     14992\n",
       "5     14949\n",
       "6     14758\n",
       "7     14279\n",
       "8     13346\n",
       "9     11981\n",
       "10    10041\n",
       "11     7892\n",
       "12     5853\n",
       "13     4152\n",
       "14     2835\n",
       "15     1861\n",
       "16     1188\n",
       "17      751\n",
       "18      462\n",
       "19      286\n",
       "20      162\n",
       "21      101\n",
       "22       66\n",
       "23       33\n",
       "24       22\n",
       "25       14\n",
       "26        7\n",
       "27        4\n",
       "28        3\n",
       "29        1\n",
       "30        1\n",
       "Name: count, dtype: int64"
      ]
     },
     "execution_count": 100,
     "metadata": {},
     "output_type": "execute_result"
    }
   ],
   "source": [
    "# How many different line numbers are there?\n",
    "train_df['line_number'].value_counts()"
   ]
  },
  {
   "cell_type": "code",
   "execution_count": 101,
   "id": "638f6da0-0d8b-437c-b8d1-9871ad58e3c6",
   "metadata": {},
   "outputs": [
    {
     "data": {
      "text/plain": [
       "<Axes: ylabel='Frequency'>"
      ]
     },
     "execution_count": 101,
     "metadata": {},
     "output_type": "execute_result"
    },
    {
     "data": {
      "image/png": "[encoded data removed]",
      "text/plain": [
       "<Figure size 640x480 with 1 Axes>"
      ]
     },
     "metadata": {},
     "output_type": "display_data"
    }
   ],
   "source": [
    "# We can further explore the distribution \n",
    "train_df['line_number'].plot(kind='hist')"
   ]
  },
  {
   "cell_type": "code",
   "execution_count": 102,
   "id": "81134de7-6fd9-438e-afbe-a74dd0c3295f",
   "metadata": {},
   "outputs": [
    {
     "data": {
      "text/plain": [
       "(<tf.Tensor: shape=(180040, 15), dtype=float32, numpy=\n",
       " array([[1., 0., 0., ..., 0., 0., 0.],\n",
       "        [0., 1., 0., ..., 0., 0., 0.],\n",
       "        [0., 0., 1., ..., 0., 0., 0.],\n",
       "        ...,\n",
       "        [0., 0., 0., ..., 0., 0., 0.],\n",
       "        [0., 0., 0., ..., 0., 0., 0.],\n",
       "        [0., 0., 0., ..., 0., 0., 0.]], dtype=float32)>,\n",
       " TensorShape([180040, 15]))"
      ]
     },
     "execution_count": 102,
     "metadata": {},
     "output_type": "execute_result"
    }
   ],
   "source": [
    "# use Tensorflow to create one-hot encoded tensor of our 'line-number' column\n",
    "train_line_number_one_hot = tf.one_hot(train_df['line_number'].to_numpy(), depth=15)\n",
    "val_line_number_one_hot = tf.one_hot(val_df['line_number'].to_numpy(), depth=15)\n",
    "test_line_number_one_hot = tf.one_hot(test_df['line_number'].to_numpy(), depth=15)\n",
    "train_line_number_one_hot,train_line_number_one_hot.shape"
   ]
  },
  {
   "cell_type": "code",
   "execution_count": 103,
   "id": "70187141-d53d-434e-ae8b-d5d21b25e7cf",
   "metadata": {},
   "outputs": [
    {
     "data": {
      "text/plain": [
       "total_lines\n",
       "11    24468\n",
       "10    23639\n",
       "12    22113\n",
       "9     19400\n",
       "13    18438\n",
       "14    14610\n",
       "8     12285\n",
       "15    10768\n",
       "7      7464\n",
       "16     7429\n",
       "17     5202\n",
       "6      3353\n",
       "18     3344\n",
       "19     2480\n",
       "20     1281\n",
       "5      1146\n",
       "21      770\n",
       "22      759\n",
       "23      264\n",
       "4       215\n",
       "24      200\n",
       "25      182\n",
       "26       81\n",
       "28       58\n",
       "3        32\n",
       "30       31\n",
       "27       28\n",
       "Name: count, dtype: int64"
      ]
     },
     "execution_count": 103,
     "metadata": {},
     "output_type": "execute_result"
    }
   ],
   "source": [
    "# How many different number of lines are there\n",
    "train_df['total_lines'].value_counts()"
   ]
  },
  {
   "cell_type": "code",
   "execution_count": 104,
   "id": "f22ddf9d-d9e1-48d2-8b18-d3093004934f",
   "metadata": {},
   "outputs": [
    {
     "data": {
      "text/plain": [
       "<Axes: ylabel='Frequency'>"
      ]
     },
     "execution_count": 104,
     "metadata": {},
     "output_type": "execute_result"
    },
    {
     "data": {
      "image/png": "[encoded data removed]",
      "text/plain": [
       "<Figure size 640x480 with 1 Axes>"
      ]
     },
     "metadata": {},
     "output_type": "display_data"
    }
   ],
   "source": [
    "train_df['total_lines'].plot(kind='hist')"
   ]
  },
  {
   "cell_type": "code",
   "execution_count": 105,
   "id": "3a8f6937-6bf7-4973-9cd0-ba0711cc64a3",
   "metadata": {},
   "outputs": [
    {
     "data": {
      "text/plain": [
       "18.0"
      ]
     },
     "execution_count": 105,
     "metadata": {},
     "output_type": "execute_result"
    }
   ],
   "source": [
    "np.percentile(train_df['total_lines'], 95)"
   ]
  },
  {
   "cell_type": "code",
   "execution_count": 106,
   "id": "219ebbc1-65fe-4dca-b8d4-34043a474f8a",
   "metadata": {},
   "outputs": [
    {
     "data": {
      "text/plain": [
       "(TensorShape([180040, 20]),\n",
       " <tf.Tensor: shape=(10, 20), dtype=float32, numpy=\n",
       " array([[0., 0., 0., 0., 0., 0., 0., 0., 0., 0., 0., 1., 0., 0., 0., 0.,\n",
       "         0., 0., 0., 0.],\n",
       "        [0., 0., 0., 0., 0., 0., 0., 0., 0., 0., 0., 1., 0., 0., 0., 0.,\n",
       "         0., 0., 0., 0.],\n",
       "        [0., 0., 0., 0., 0., 0., 0., 0., 0., 0., 0., 1., 0., 0., 0., 0.,\n",
       "         0., 0., 0., 0.],\n",
       "        [0., 0., 0., 0., 0., 0., 0., 0., 0., 0., 0., 1., 0., 0., 0., 0.,\n",
       "         0., 0., 0., 0.],\n",
       "        [0., 0., 0., 0., 0., 0., 0., 0., 0., 0., 0., 1., 0., 0., 0., 0.,\n",
       "         0., 0., 0., 0.],\n",
       "        [0., 0., 0., 0., 0., 0., 0., 0., 0., 0., 0., 1., 0., 0., 0., 0.,\n",
       "         0., 0., 0., 0.],\n",
       "        [0., 0., 0., 0., 0., 0., 0., 0., 0., 0., 0., 1., 0., 0., 0., 0.,\n",
       "         0., 0., 0., 0.],\n",
       "        [0., 0., 0., 0., 0., 0., 0., 0., 0., 0., 0., 1., 0., 0., 0., 0.,\n",
       "         0., 0., 0., 0.],\n",
       "        [0., 0., 0., 0., 0., 0., 0., 0., 0., 0., 0., 1., 0., 0., 0., 0.,\n",
       "         0., 0., 0., 0.],\n",
       "        [0., 0., 0., 0., 0., 0., 0., 0., 0., 0., 0., 1., 0., 0., 0., 0.,\n",
       "         0., 0., 0., 0.]], dtype=float32)>)"
      ]
     },
     "execution_count": 106,
     "metadata": {},
     "output_type": "execute_result"
    }
   ],
   "source": [
    "train_total_lines_one_hot = tf.one_hot(train_df['total_lines'].to_numpy(), depth=20)\n",
    "val_total_lines_one_hot = tf.one_hot(val_df['total_lines'].to_numpy(), depth=20)\n",
    "test_total_lines_one_hot = tf.one_hot(test_df['total_lines'].to_numpy(), depth=20)\n",
    "train_total_lines_one_hot.shape, train_total_lines_one_hot[:10]"
   ]
  },
  {
   "cell_type": "markdown",
   "id": "ef5d885c-ff37-4832-93ec-11f72bfaec8e",
   "metadata": {},
   "source": [
    "### Building a tribrid embedding Model"
   ]
  },
  {
   "cell_type": "markdown",
   "id": "038f67f9-d261-4e62-84fc-1d869406b884",
   "metadata": {},
   "source": [
    "1) Create a token-level model\n",
    "2) create a character-level model\n",
    "3) create a model for `line_number` feature\n",
    "4) create a model for `total_lines` feature\n",
    "5) combine o/p of 1 & 2 using tf.keras.layers.concatenate\n",
    "6) combine o/p of 3, 4 & 5 using tf.keras.layers.concatenate\n",
    "7) create o/p layer to accept the tribrided embedding & output label probabilities\n",
    "8) combine i/p of 1,2,3,4 and o/p of 7 then pass it to a tf.keras.Model"
   ]
  },
  {
   "cell_type": "code",
   "execution_count": 107,
   "id": "0a06e45e-093e-4e79-a7db-a7f5e66710d4",
   "metadata": {},
   "outputs": [],
   "source": [
    "# 1 Token_level model\n",
    "token_inputs = layers.Input(shape=[], dtype=\"string\", name=\"token_inputs\")\n",
    "token_embeddings = tf_hub_embedding_layer(token_inputs)\n",
    "token_outputs = layers.Dense(128, activation=\"relu\")(token_embeddings)\n",
    "token_model = tf.keras.Model(inputs=token_inputs,\n",
    "                             outputs=token_outputs)\n"
   ]
  },
  {
   "cell_type": "code",
   "execution_count": 108,
   "id": "483d3960-7720-42f1-bf62-77522590d844",
   "metadata": {},
   "outputs": [],
   "source": [
    "# 2 Char_level Model\n",
    "char_inputs = layers.Input(shape=(1,), dtype=\"string\", name=\"char_inputs\")\n",
    "char_vectors = char_vectorizer(char_inputs)\n",
    "char_embeddings = char_embed(char_vectors)\n",
    "char_bi_lstm = layers.Bidirectional(layers.LSTM(32))(char_embeddings)\n",
    "char_model = tf.keras.Model(inputs=char_inputs,\n",
    "                            outputs=char_bi_lstm)"
   ]
  },
  {
   "cell_type": "code",
   "execution_count": 109,
   "id": "b88338ee-c417-4e6d-bd35-79bde869398f",
   "metadata": {},
   "outputs": [],
   "source": [
    "# 3 Line number Model\n",
    "# input layer that takes input \n",
    "line_number_inputs = layers.Input(shape=(15,), dtype=tf.float32, name='line_number_input')\n",
    "# dense layer with 32 units and relu activation \n",
    "x = layers.Dense(32, activation='relu')(line_number_inputs)\n",
    "# Combine inputs & dense layer into model \n",
    "line_number_model = tf.keras.Model(inputs=line_number_inputs,\n",
    "                                  outputs=x)"
   ]
  },
  {
   "cell_type": "code",
   "execution_count": 110,
   "id": "b8160b9a-6eef-46d9-a064-f3929468c146",
   "metadata": {},
   "outputs": [],
   "source": [
    "# 4 Total lines model\n",
    "total_lines_inputs = layers.Input(shape=(20,), dtype=tf.int32, name=\"total_lines_input\")\n",
    "y = layers.Dense(32, activation=\"relu\")(total_lines_inputs)\n",
    "total_line_model = tf.keras.Model(inputs=total_lines_inputs,\n",
    "                                  outputs=y)"
   ]
  },
  {
   "cell_type": "code",
   "execution_count": 111,
   "id": "7acc17f1-35f4-4d56-949c-753988624516",
   "metadata": {},
   "outputs": [],
   "source": [
    "# 5 Combine the token and char embedding into hybrid embedding\n",
    "combined_embeddings = layers.Concatenate(name=\"token_char_hybrid_embedding\")([token_model.output, \n",
    "                                                                              char_model.output])"
   ]
  },
  {
   "cell_type": "code",
   "execution_count": 112,
   "id": "b10df7ab-6b24-4a28-ba20-2438edd79d9e",
   "metadata": {},
   "outputs": [],
   "source": [
    "# Combined embeddings passed though a Dense layer --> Dropoutlayer(0.5) --> tribid_embedding\n",
    "z = layers.Dense(256, activation=\"relu\")(combined_embeddings)\n",
    "z = layers.Dropout(0.5)(z)"
   ]
  },
  {
   "cell_type": "code",
   "execution_count": 113,
   "id": "26c9135b-cade-4f2d-96e6-ebfe908bfbff",
   "metadata": {},
   "outputs": [],
   "source": [
    "# 6 Combine positional embedding with combined token and z\n",
    "tribrid_embedding = layers.Concatenate(name=\"token_char_positional_embedding\")([line_number_model.output,\n",
    "                                                                total_line_model.output,\n",
    "                                                                z])"
   ]
  },
  {
   "cell_type": "code",
   "execution_count": 114,
   "id": "69ec2d0b-29d8-4ec8-99c5-e11b8df86882",
   "metadata": {},
   "outputs": [],
   "source": [
    "# 7 create output layer\n",
    "output_layer = layers.Dense(5, activation=\"softmax\", name=\"output_layer\")(tribrid_embedding)\n"
   ]
  },
  {
   "cell_type": "code",
   "execution_count": 115,
   "id": "0342f414-aa0b-464d-bb52-c01e8766e9b9",
   "metadata": {},
   "outputs": [],
   "source": [
    "# 8 Put together model with all kinds of inputs\n",
    "model_5 = tf.keras.Model(inputs=[line_number_model.input,\n",
    "                                 total_line_model.input,\n",
    "                                 token_model.input, \n",
    "                                 char_model.input],\n",
    "                         outputs=output_layer,\n",
    "                        name='model_5_tribrid_embedding_model')"
   ]
  },
  {
   "cell_type": "code",
   "execution_count": 116,
   "id": "9c44299f-6b2b-40d8-ae3c-8e9e1f44d99a",
   "metadata": {},
   "outputs": [
    {
     "name": "stdout",
     "output_type": "stream",
     "text": [
      "Model: \"model_5_tribrid_embedding_model\"\n",
      "__________________________________________________________________________________________________\n",
      " Layer (type)                Output Shape                 Param #   Connected to                  \n",
      "==================================================================================================\n",
      " char_inputs (InputLayer)    [(None, 1)]                  0         []                            \n",
      "                                                                                                  \n",
      " token_inputs (InputLayer)   [(None,)]                    0         []                            \n",
      "                                                                                                  \n",
      " char_vectorizer (TextVecto  (None, 290)                  0         ['char_inputs[0][0]']         \n",
      " rization)                                                                                        \n",
      "                                                                                                  \n",
      " universal_sentence_encoder  (None, 512)                  2567978   ['token_inputs[0][0]']        \n",
      "  (KerasLayer)                                            24                                      \n",
      "                                                                                                  \n",
      " char_embed (Embedding)      (None, 290, 25)              700       ['char_vectorizer[2][0]']     \n",
      "                                                                                                  \n",
      " dense_7 (Dense)             (None, 128)                  65664     ['universal_sentence_encoder[2\n",
      "                                                                    ][0]']                        \n",
      "                                                                                                  \n",
      " bidirectional_1 (Bidirecti  (None, 64)                   14848     ['char_embed[2][0]']          \n",
      " onal)                                                                                            \n",
      "                                                                                                  \n",
      " token_char_hybrid_embeddin  (None, 192)                  0         ['dense_7[0][0]',             \n",
      " g (Concatenate)                                                     'bidirectional_1[0][0]']     \n",
      "                                                                                                  \n",
      " line_number_input (InputLa  [(None, 15)]                 0         []                            \n",
      " yer)                                                                                             \n",
      "                                                                                                  \n",
      " total_lines_input (InputLa  [(None, 20)]                 0         []                            \n",
      " yer)                                                                                             \n",
      "                                                                                                  \n",
      " dense_10 (Dense)            (None, 256)                  49408     ['token_char_hybrid_embedding[\n",
      "                                                                    0][0]']                       \n",
      "                                                                                                  \n",
      " dense_8 (Dense)             (None, 32)                   512       ['line_number_input[0][0]']   \n",
      "                                                                                                  \n",
      " dense_9 (Dense)             (None, 32)                   672       ['total_lines_input[0][0]']   \n",
      "                                                                                                  \n",
      " dropout_2 (Dropout)         (None, 256)                  0         ['dense_10[0][0]']            \n",
      "                                                                                                  \n",
      " token_char_positional_embe  (None, 320)                  0         ['dense_8[0][0]',             \n",
      " dding (Concatenate)                                                 'dense_9[0][0]',             \n",
      "                                                                     'dropout_2[0][0]']           \n",
      "                                                                                                  \n",
      " output_layer (Dense)        (None, 5)                    1605      ['token_char_positional_embedd\n",
      "                                                                    ing[0][0]']                   \n",
      "                                                                                                  \n",
      "==================================================================================================\n",
      "Total params: 256931233 (980.11 MB)\n",
      "Trainable params: 133409 (521.13 KB)\n",
      "Non-trainable params: 256797824 (979.61 MB)\n",
      "__________________________________________________________________________________________________\n"
     ]
    }
   ],
   "source": [
    "model_5.summary()"
   ]
  },
  {
   "cell_type": "code",
   "execution_count": 117,
   "id": "9f33a1b8-52d4-4a88-8492-d1a82081f9fb",
   "metadata": {},
   "outputs": [
    {
     "data": {
      "image/png": "[encoded data removed]",
      "text/plain": [
       "<IPython.core.display.Image object>"
      ]
     },
     "execution_count": 117,
     "metadata": {},
     "output_type": "execute_result"
    }
   ],
   "source": [
    "plot_model(model_5)"
   ]
  },
  {
   "cell_type": "code",
   "execution_count": 118,
   "id": "9f9d8101-00c2-4de4-a59d-0af06187cbb4",
   "metadata": {},
   "outputs": [],
   "source": [
    "# Compile token, char, and positional embedding model\n",
    "model_5.compile(loss=tf.keras.losses.CategoricalCrossentropy(label_smoothing=0.2),\n",
    "               optimizer = tf.keras.optimizers.Adam(),\n",
    "               metrics=['accuracy'])"
   ]
  },
  {
   "cell_type": "markdown",
   "id": "70fe5e98-65b9-46c9-a1ee-7fef5cceeb1c",
   "metadata": {},
   "source": [
    "### Create tribrid embedding dataset using tf.data"
   ]
  },
  {
   "cell_type": "code",
   "execution_count": 119,
   "id": "85f4252c-8469-4472-bbf6-1ca9621aa9a7",
   "metadata": {},
   "outputs": [],
   "source": [
    "# create training and validation dataset(with all four kinds of input data)\n",
    "train_char_token_pos_data = tf.data.Dataset.from_tensor_slices((train_line_number_one_hot,\n",
    "                                                               train_total_lines_one_hot,\n",
    "                                                               train_sentences,\n",
    "                                                               train_chars))\n",
    "# the order of our dataset is in this way becoz we have defined our model in that particular way\n",
    "\n",
    "train_char_token_pos_labels = tf.data.Dataset.from_tensor_slices(train_labels_one_hot)\n",
    "train_char_token_pos_dataset = tf.data.Dataset.zip((train_char_token_pos_data, train_char_token_pos_labels))\n",
    "train_char_token_pos_dataset = train_char_token_pos_dataset.batch(32).prefetch(tf.data.AUTOTUNE)"
   ]
  },
  {
   "cell_type": "code",
   "execution_count": 120,
   "id": "74f3f8bb-768c-4de5-a3d9-8c96de613604",
   "metadata": {},
   "outputs": [],
   "source": [
    "val_char_token_pos_data = tf.data.Dataset.from_tensor_slices((val_line_number_one_hot,\n",
    "                                                               val_total_lines_one_hot,\n",
    "                                                               val_sentences,\n",
    "                                                               val_chars))\n",
    "\n",
    "val_char_token_pos_labels = tf.data.Dataset.from_tensor_slices(val_labels_one_hot)\n",
    "val_char_token_pos_dataset = tf.data.Dataset.zip((val_char_token_pos_data, val_char_token_pos_labels))\n",
    "val_char_token_pos_dataset = val_char_token_pos_dataset.batch(32).prefetch(tf.data.AUTOTUNE)"
   ]
  },
  {
   "cell_type": "code",
   "execution_count": 121,
   "id": "5b94936b-6160-4b1d-9f44-3aed03dcf220",
   "metadata": {},
   "outputs": [
    {
     "data": {
      "text/plain": [
       "(<_PrefetchDataset element_spec=((TensorSpec(shape=(None,), dtype=tf.string, name=None), TensorSpec(shape=(None,), dtype=tf.string, name=None)), TensorSpec(shape=(None, 5), dtype=tf.float64, name=None))>,\n",
       " <_PrefetchDataset element_spec=((TensorSpec(shape=(None, 15), dtype=tf.float32, name=None), TensorSpec(shape=(None, 20), dtype=tf.float32, name=None), TensorSpec(shape=(None,), dtype=tf.string, name=None), TensorSpec(shape=(None,), dtype=tf.string, name=None)), TensorSpec(shape=(None, 5), dtype=tf.float64, name=None))>)"
      ]
     },
     "execution_count": 121,
     "metadata": {},
     "output_type": "execute_result"
    }
   ],
   "source": [
    "# shape of our input\n",
    "train_char_token_dataset, val_char_token_pos_dataset"
   ]
  },
  {
   "cell_type": "markdown",
   "id": "84555928-9fa5-40f2-8963-7f8f04087f82",
   "metadata": {},
   "source": [
    "### Fitting evaluating and making prediction with our tribrid model"
   ]
  },
  {
   "cell_type": "code",
   "execution_count": 123,
   "id": "337d8afe-59f7-4558-9315-f80046287310",
   "metadata": {},
   "outputs": [
    {
     "name": "stdout",
     "output_type": "stream",
     "text": [
      "Epoch 1/3\n",
      "562/562 [==============================] - 170s 271ms/step - loss: 1.0948 - accuracy: 0.7276 - val_loss: 0.9842 - val_accuracy: 0.8078\n",
      "Epoch 2/3\n",
      "562/562 [==============================] - 145s 258ms/step - loss: 0.9674 - accuracy: 0.8148 - val_loss: 0.9501 - val_accuracy: 0.8285\n",
      "Epoch 3/3\n",
      "562/562 [==============================] - 147s 261ms/step - loss: 0.9517 - accuracy: 0.8206 - val_loss: 0.9378 - val_accuracy: 0.8321\n"
     ]
    }
   ],
   "source": [
    "# Fitting our tribrid embedding model\n",
    "history_model_5 = model_5.fit(train_char_token_pos_dataset,\n",
    "                             steps_per_epoch=int(0.1 * len(train_char_token_pos_dataset)),\n",
    "                             epochs=3,\n",
    "                             validation_data=val_char_token_pos_dataset,\n",
    "                             validation_steps=int(0.1 * len(val_char_token_pos_dataset)))"
   ]
  },
  {
   "cell_type": "code",
   "execution_count": 125,
   "id": "754ab268-e67c-47eb-9d3f-2b5f104f56a3",
   "metadata": {},
   "outputs": [
    {
     "name": "stdout",
     "output_type": "stream",
     "text": [
      "945/945 [==============================] - 65s 69ms/step\n"
     ]
    },
    {
     "data": {
      "text/plain": [
       "array([[0.5085275 , 0.10751128, 0.01078049, 0.3571099 , 0.01607083],\n",
       "       [0.5320353 , 0.10870045, 0.05516113, 0.2918613 , 0.01224191],\n",
       "       [0.2990146 , 0.11104032, 0.12773669, 0.3926287 , 0.06957963],\n",
       "       ...,\n",
       "       [0.04024686, 0.13544455, 0.04245665, 0.0308986 , 0.7509533 ],\n",
       "       [0.02911303, 0.29852128, 0.09416387, 0.02682156, 0.5513803 ],\n",
       "       [0.1943134 , 0.59925604, 0.08992507, 0.04130486, 0.07520054]],\n",
       "      dtype=float32)"
      ]
     },
     "execution_count": 125,
     "metadata": {},
     "output_type": "execute_result"
    }
   ],
   "source": [
    "# Make prediction with the char token pos model\n",
    "model_5_pred_probs = model_5.predict(val_char_token_pos_dataset, verbose=1)\n",
    "model_5_pred_probs"
   ]
  },
  {
   "cell_type": "code",
   "execution_count": 126,
   "id": "dde1ca08-95af-480b-ae59-5e1fa62a814b",
   "metadata": {},
   "outputs": [
    {
     "data": {
      "text/plain": [
       "<tf.Tensor: shape=(30212,), dtype=int64, numpy=array([0, 0, 3, ..., 4, 4, 1], dtype=int64)>"
      ]
     },
     "execution_count": 126,
     "metadata": {},
     "output_type": "execute_result"
    }
   ],
   "source": [
    "# Convert pred probs to pred labels\n",
    "model_5_preds = tf.argmax(model_5_pred_probs, axis=1)\n",
    "model_5_preds"
   ]
  },
  {
   "cell_type": "code",
   "execution_count": 127,
   "id": "9e1417f4-5f51-4059-b763-0ed4d73c720d",
   "metadata": {},
   "outputs": [
    {
     "data": {
      "text/plain": [
       "{'accuracy': 83.44035482589699,\n",
       " 'precision': 0.8340239868969626,\n",
       " 'recall': 0.8344035482589699,\n",
       " 'f1': 0.8329702809795112}"
      ]
     },
     "execution_count": 127,
     "metadata": {},
     "output_type": "execute_result"
    }
   ],
   "source": [
    "# Calculate results of the char token pos model\n",
    "model_5_results = calculate_results(y_true=val_labels_encoded,\n",
    "                                   y_pred=model_5_preds)\n",
    "model_5_results"
   ]
  },
  {
   "cell_type": "markdown",
   "id": "f43b1f5d-ee5d-499c-9cf5-adf2c9341199",
   "metadata": {},
   "source": [
    "## Compare Model results"
   ]
  },
  {
   "cell_type": "code",
   "execution_count": 128,
   "id": "3739e69f-5f85-4bd9-916c-55634b614ea6",
   "metadata": {},
   "outputs": [],
   "source": [
    "# Combine model results into a dataframe\n",
    "all_model_results = pd.DataFrame({'model_0_baseline': baseline_results,\n",
    "                                 'model_1_custom_token_embedding': model_1_results,\n",
    "                                 'model_2_pretrained_token_embedding': model_2_results,\n",
    "                                 'model_3_custom_char_embedding': model_3_results,\n",
    "                                 'model_4_hybrid_char_token_embedding': model_4_results,\n",
    "                                 'model_5_pos_char_token_embedding': model_5_results})\n",
    "\n",
    "all_model_results = all_model_results.transpose()"
   ]
  },
  {
   "cell_type": "code",
   "execution_count": 129,
   "id": "876163e2-1810-4bc4-a2bb-1d8a1f42dc66",
   "metadata": {},
   "outputs": [
    {
     "data": {
      "text/html": [
       "<div>\n",
       "<style scoped>\n",
       "    .dataframe tbody tr th:only-of-type {\n",
       "        vertical-align: middle;\n",
       "    }\n",
       "\n",
       "    .dataframe tbody tr th {\n",
       "        vertical-align: top;\n",
       "    }\n",
       "\n",
       "    .dataframe thead th {\n",
       "        text-align: right;\n",
       "    }\n",
       "</style>\n",
       "<table border=\"1\" class=\"dataframe\">\n",
       "  <thead>\n",
       "    <tr style=\"text-align: right;\">\n",
       "      <th></th>\n",
       "      <th>accuracy</th>\n",
       "      <th>precision</th>\n",
       "      <th>recall</th>\n",
       "      <th>f1</th>\n",
       "    </tr>\n",
       "  </thead>\n",
       "  <tbody>\n",
       "    <tr>\n",
       "      <th>model_0_baseline</th>\n",
       "      <td>72.183238</td>\n",
       "      <td>0.718647</td>\n",
       "      <td>0.721832</td>\n",
       "      <td>0.698925</td>\n",
       "    </tr>\n",
       "    <tr>\n",
       "      <th>model_1_custom_token_embedding</th>\n",
       "      <td>78.564809</td>\n",
       "      <td>0.783100</td>\n",
       "      <td>0.785648</td>\n",
       "      <td>0.783175</td>\n",
       "    </tr>\n",
       "    <tr>\n",
       "      <th>model_2_pretrained_token_embedding</th>\n",
       "      <td>71.365683</td>\n",
       "      <td>0.713978</td>\n",
       "      <td>0.713657</td>\n",
       "      <td>0.710615</td>\n",
       "    </tr>\n",
       "    <tr>\n",
       "      <th>model_3_custom_char_embedding</th>\n",
       "      <td>65.186019</td>\n",
       "      <td>0.641227</td>\n",
       "      <td>0.651860</td>\n",
       "      <td>0.640178</td>\n",
       "    </tr>\n",
       "    <tr>\n",
       "      <th>model_4_hybrid_char_token_embedding</th>\n",
       "      <td>73.593274</td>\n",
       "      <td>0.737375</td>\n",
       "      <td>0.735933</td>\n",
       "      <td>0.733486</td>\n",
       "    </tr>\n",
       "    <tr>\n",
       "      <th>model_5_pos_char_token_embedding</th>\n",
       "      <td>83.440355</td>\n",
       "      <td>0.834024</td>\n",
       "      <td>0.834404</td>\n",
       "      <td>0.832970</td>\n",
       "    </tr>\n",
       "  </tbody>\n",
       "</table>\n",
       "</div>"
      ],
      "text/plain": [
       "                                      accuracy  precision    recall        f1\n",
       "model_0_baseline                     72.183238   0.718647  0.721832  0.698925\n",
       "model_1_custom_token_embedding       78.564809   0.783100  0.785648  0.783175\n",
       "model_2_pretrained_token_embedding   71.365683   0.713978  0.713657  0.710615\n",
       "model_3_custom_char_embedding        65.186019   0.641227  0.651860  0.640178\n",
       "model_4_hybrid_char_token_embedding  73.593274   0.737375  0.735933  0.733486\n",
       "model_5_pos_char_token_embedding     83.440355   0.834024  0.834404  0.832970"
      ]
     },
     "execution_count": 129,
     "metadata": {},
     "output_type": "execute_result"
    }
   ],
   "source": [
    "all_model_results"
   ]
  },
  {
   "cell_type": "code",
   "execution_count": 130,
   "id": "c138e6c0-9542-40fb-b5e5-c665069fc3d1",
   "metadata": {},
   "outputs": [],
   "source": [
    "# Reduce the accuracy matrix to same scale as other metrics\n",
    "all_model_results['accuracy'] = all_model_results['accuracy']/100"
   ]
  },
  {
   "cell_type": "code",
   "execution_count": 131,
   "id": "ba42e7d9-8574-4847-ac20-84e920ce7a4f",
   "metadata": {},
   "outputs": [
    {
     "data": {
      "text/html": [
       "<div>\n",
       "<style scoped>\n",
       "    .dataframe tbody tr th:only-of-type {\n",
       "        vertical-align: middle;\n",
       "    }\n",
       "\n",
       "    .dataframe tbody tr th {\n",
       "        vertical-align: top;\n",
       "    }\n",
       "\n",
       "    .dataframe thead th {\n",
       "        text-align: right;\n",
       "    }\n",
       "</style>\n",
       "<table border=\"1\" class=\"dataframe\">\n",
       "  <thead>\n",
       "    <tr style=\"text-align: right;\">\n",
       "      <th></th>\n",
       "      <th>accuracy</th>\n",
       "      <th>precision</th>\n",
       "      <th>recall</th>\n",
       "      <th>f1</th>\n",
       "    </tr>\n",
       "  </thead>\n",
       "  <tbody>\n",
       "    <tr>\n",
       "      <th>model_0_baseline</th>\n",
       "      <td>0.721832</td>\n",
       "      <td>0.718647</td>\n",
       "      <td>0.721832</td>\n",
       "      <td>0.698925</td>\n",
       "    </tr>\n",
       "    <tr>\n",
       "      <th>model_1_custom_token_embedding</th>\n",
       "      <td>0.785648</td>\n",
       "      <td>0.783100</td>\n",
       "      <td>0.785648</td>\n",
       "      <td>0.783175</td>\n",
       "    </tr>\n",
       "    <tr>\n",
       "      <th>model_2_pretrained_token_embedding</th>\n",
       "      <td>0.713657</td>\n",
       "      <td>0.713978</td>\n",
       "      <td>0.713657</td>\n",
       "      <td>0.710615</td>\n",
       "    </tr>\n",
       "    <tr>\n",
       "      <th>model_3_custom_char_embedding</th>\n",
       "      <td>0.651860</td>\n",
       "      <td>0.641227</td>\n",
       "      <td>0.651860</td>\n",
       "      <td>0.640178</td>\n",
       "    </tr>\n",
       "    <tr>\n",
       "      <th>model_4_hybrid_char_token_embedding</th>\n",
       "      <td>0.735933</td>\n",
       "      <td>0.737375</td>\n",
       "      <td>0.735933</td>\n",
       "      <td>0.733486</td>\n",
       "    </tr>\n",
       "    <tr>\n",
       "      <th>model_5_pos_char_token_embedding</th>\n",
       "      <td>0.834404</td>\n",
       "      <td>0.834024</td>\n",
       "      <td>0.834404</td>\n",
       "      <td>0.832970</td>\n",
       "    </tr>\n",
       "  </tbody>\n",
       "</table>\n",
       "</div>"
      ],
      "text/plain": [
       "                                     accuracy  precision    recall        f1\n",
       "model_0_baseline                     0.721832   0.718647  0.721832  0.698925\n",
       "model_1_custom_token_embedding       0.785648   0.783100  0.785648  0.783175\n",
       "model_2_pretrained_token_embedding   0.713657   0.713978  0.713657  0.710615\n",
       "model_3_custom_char_embedding        0.651860   0.641227  0.651860  0.640178\n",
       "model_4_hybrid_char_token_embedding  0.735933   0.737375  0.735933  0.733486\n",
       "model_5_pos_char_token_embedding     0.834404   0.834024  0.834404  0.832970"
      ]
     },
     "execution_count": 131,
     "metadata": {},
     "output_type": "execute_result"
    }
   ],
   "source": [
    "all_model_results"
   ]
  },
  {
   "cell_type": "code",
   "execution_count": 132,
   "id": "3f1c9d8d-297b-427f-8700-bac5210f052d",
   "metadata": {},
   "outputs": [
    {
     "data": {
      "text/plain": [
       "<matplotlib.legend.Legend at 0x24f38452680>"
      ]
     },
     "execution_count": 132,
     "metadata": {},
     "output_type": "execute_result"
    },
    {
     "data": {
      "image/png": "[encoded data removed]",
      "text/plain": [
       "<Figure size 1000x700 with 1 Axes>"
      ]
     },
     "metadata": {},
     "output_type": "display_data"
    }
   ],
   "source": [
    "# Plot and compare all the model result\n",
    "all_model_results.plot(kind='bar', figsize=(10, 7)).legend(bbox_to_anchor=(1.0, 1.0))"
   ]
  },
  {
   "cell_type": "code",
   "execution_count": 133,
   "id": "41391c5f-c6b0-402a-980d-ea6120807706",
   "metadata": {},
   "outputs": [
    {
     "data": {
      "image/png": "[encoded data removed]",
      "text/plain": [
       "<Figure size 1000x700 with 1 Axes>"
      ]
     },
     "metadata": {},
     "output_type": "display_data"
    }
   ],
   "source": [
    "# Sort model results by f1-score\n",
    "all_model_results.sort_values('f1', ascending=True)['f1'].plot(kind='bar', figsize=(10, 7));"
   ]
  },
  {
   "cell_type": "markdown",
   "id": "02280eb6-6abb-44ba-84f1-5ffc2bc8d9ae",
   "metadata": {},
   "source": [
    "### Save and load model"
   ]
  },
  {
   "cell_type": "code",
   "execution_count": 135,
   "id": "08e86244-2f13-49ef-b7a3-486692934369",
   "metadata": {},
   "outputs": [
    {
     "name": "stdout",
     "output_type": "stream",
     "text": [
      "INFO:tensorflow:Assets written to: skimlit_tribrid_model\\assets\n"
     ]
    },
    {
     "name": "stderr",
     "output_type": "stream",
     "text": [
      "INFO:tensorflow:Assets written to: skimlit_tribrid_model\\assets\n"
     ]
    }
   ],
   "source": [
    "# Save the best performing model\n",
    "model_5.save('skimlit_tribrid_model')"
   ]
  },
  {
   "cell_type": "code",
   "execution_count": 138,
   "id": "3b927546-c020-457f-bc64-0b8e6971c403",
   "metadata": {},
   "outputs": [],
   "source": [
    "# Load in our saved model\n",
    "loaded_model = tf.keras.models.load_model('skimlit_tribrid_model')"
   ]
  },
  {
   "cell_type": "code",
   "execution_count": 139,
   "id": "0ce38129-f155-4368-bc89-bc93220192af",
   "metadata": {},
   "outputs": [
    {
     "name": "stdout",
     "output_type": "stream",
     "text": [
      "945/945 [==============================] - 29s 28ms/step\n"
     ]
    },
    {
     "data": {
      "text/plain": [
       "<tf.Tensor: shape=(30212,), dtype=int64, numpy=array([0, 0, 3, ..., 4, 4, 1], dtype=int64)>"
      ]
     },
     "execution_count": 139,
     "metadata": {},
     "output_type": "execute_result"
    }
   ],
   "source": [
    "# Making prediction on by our loaded model on the validation dataset\n",
    "loaded_pred_probs = loaded_model.predict(val_char_token_pos_dataset)\n",
    "loaded_preds = tf.argmax(loaded_pred_probs, axis=1)\n",
    "loaded_preds"
   ]
  },
  {
   "cell_type": "code",
   "execution_count": 140,
   "id": "3e962036-9685-4c47-ba7a-0d74b6d42d72",
   "metadata": {},
   "outputs": [],
   "source": [
    "# Calculate the results of our predicted model\n",
    "loaded_model_result = calculate_results(y_true=val_labels_encoded,\n",
    "                                       y_pred=loaded_preds) "
   ]
  },
  {
   "cell_type": "code",
   "execution_count": 141,
   "id": "389ec432-c4ca-42bb-95bd-7b40a170cb70",
   "metadata": {},
   "outputs": [
    {
     "data": {
      "text/plain": [
       "{'accuracy': 83.44035482589699,\n",
       " 'precision': 0.8340239868969626,\n",
       " 'recall': 0.8344035482589699,\n",
       " 'f1': 0.8329702809795112}"
      ]
     },
     "execution_count": 141,
     "metadata": {},
     "output_type": "execute_result"
    }
   ],
   "source": [
    "loaded_model_result"
   ]
  },
  {
   "cell_type": "code",
   "execution_count": 142,
   "id": "ddb57102-e7a5-4a55-96db-77583b84d20a",
   "metadata": {},
   "outputs": [],
   "source": [
    "assert model_5_results == loaded_model_result"
   ]
  },
  {
   "cell_type": "code",
   "execution_count": null,
   "id": "b534542c-494e-4147-a7c8-67cc1f2ab99c",
   "metadata": {},
   "outputs": [],
   "source": []
  }
 ],
 "metadata": {
  "kernelspec": {
   "display_name": "Python 3 (ipykernel)",
   "language": "python",
   "name": "python3"
  },
  "language_info": {
   "codemirror_mode": {
    "name": "ipython",
    "version": 3
   },
   "file_extension": ".py",
   "mimetype": "text/x-python",
   "name": "python",
   "nbconvert_exporter": "python",
   "pygments_lexer": "ipython3",
   "version": "3.10.14"
  }
 },
 "nbformat": 4,
 "nbformat_minor": 5
}
